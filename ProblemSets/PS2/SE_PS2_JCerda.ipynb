{
 "cells": [
  {
   "cell_type": "markdown",
   "metadata": {},
   "source": [
    "# Structural Estimation PS2 Jose Cerda"
   ]
  },
  {
   "cell_type": "markdown",
   "metadata": {},
   "source": [
    "# 1.Health claim amounts and the GB family of distributions"
   ]
  },
  {
   "cell_type": "code",
   "execution_count": 1,
   "metadata": {},
   "outputs": [],
   "source": [
    "# Import the necessary libraries\n",
    "import numpy as np\n",
    "import scipy.stats as sts\n",
    "import requests\n",
    "import statistics\n",
    "import matplotlib.pyplot as plt\n",
    "%matplotlib notebook\n",
    "import pandas as pd\n",
    "import scipy.special as spc"
   ]
  },
  {
   "cell_type": "code",
   "execution_count": 2,
   "metadata": {},
   "outputs": [],
   "source": [
    "# Import the data\n",
    "# Load the data as a NumPy array\n",
    "#clms_amt = np.loadtxt('C:\\\\Users\\joset\\Documents\\GitHub\\StructEst_W20\\ProblemSets\\PS2\\clms.txt')\n",
    "clms_amt = np.loadtxt('clms.txt')"
   ]
  },
  {
   "cell_type": "markdown",
   "metadata": {},
   "source": [
    "# a)Calculate and report the mean, median, maximum, minimum, and standard deviation of monthly health expenditures for these data."
   ]
  },
  {
   "cell_type": "code",
   "execution_count": 3,
   "metadata": {},
   "outputs": [
    {
     "name": "stdout",
     "output_type": "stream",
     "text": [
      "Statistics of Monthly health expenditures (Dollars)\n",
      "Mean: 720.2779753272437\n",
      "Median: 172.21\n",
      "Maximum: 227967.25\n",
      "Minimum: 0.01\n",
      "Stdev: 3972.850824119446\n"
     ]
    }
   ],
   "source": [
    "#Statistics about claims\n",
    "mu = statistics.mean(clms_amt)\n",
    "med = statistics.median(clms_amt)\n",
    "maxi = max(clms_amt)\n",
    "mini = min(clms_amt)\n",
    "sigma = statistics.stdev(clms_amt)\n",
    "  \n",
    "# Report\n",
    "print (\"Statistics of Monthly health expenditures (Dollars)\")\n",
    "print(\"Mean:\", mu)\n",
    "print(\"Median:\", med)\n",
    "print(\"Maximum:\", maxi)\n",
    "print(\"Minimum:\", mini)\n",
    "print(\"Stdev:\", sigma)"
   ]
  },
  {
   "cell_type": "markdown",
   "metadata": {},
   "source": [
    "# Plot two histograms of the data in which the y-axis gives the percent of observations in the particular bin of health expenditures and the x-axis gives the value of monthly health expenditures."
   ]
  },
  {
   "cell_type": "code",
   "execution_count": 4,
   "metadata": {},
   "outputs": [
    {
     "data": {
      "text/plain": [
       "(0, 0.7)"
      ]
     },
     "execution_count": 4,
     "metadata": {},
     "output_type": "execute_result"
    },
    {
     "data": {
      "image/png": "[encoded data removed]",
      "text/plain": [
       "<Figure size 432x288 with 1 Axes>"
      ]
     },
     "metadata": {
      "needs_background": "light"
     },
     "output_type": "display_data"
    }
   ],
   "source": [
    "#Frequency Histogram all\n",
    "num_bins = 1000\n",
    "weights = (1 / clms_amt.shape[0]) * np.ones_like(clms_amt)\n",
    "n, bin_cuts, patches = plt.hist(clms_amt, num_bins, weights=weights)\n",
    "plt.title('Claim amounts Frequence Histrogram All')\n",
    "plt.xlabel(r'Value of monthly health expenditures')\n",
    "plt.ylabel(r'Percent of observations in the particular bin')\n",
    "plt.xlim([0, 80000])  # This gives the xmin and xmax to be plotted\n",
    "plt.ylim([0, 0.7])  # This gives the ymin and ymax to be plotted"
   ]
  },
  {
   "cell_type": "code",
   "execution_count": 5,
   "metadata": {},
   "outputs": [
    {
     "name": "stdout",
     "output_type": "stream",
     "text": [
      "1.0000000000000322\n"
     ]
    }
   ],
   "source": [
    "#Sum of bins\n",
    "print(n.sum())"
   ]
  },
  {
   "cell_type": "code",
   "execution_count": 6,
   "metadata": {},
   "outputs": [
    {
     "data": {
      "text/plain": [
       "Text(0, 0.5, 'Percent of observations in the particular bin')"
      ]
     },
     "execution_count": 6,
     "metadata": {},
     "output_type": "execute_result"
    },
    {
     "data": {
      "image/png": "[encoded data removed]",
      "text/plain": [
       "<Figure size 432x288 with 1 Axes>"
      ]
     },
     "metadata": {
      "needs_background": "light"
     },
     "output_type": "display_data"
    }
   ],
   "source": [
    "#Frequency Histogram under 800\n",
    "plt.clf()\n",
    "plt.cla()\n",
    "plt.close()\n",
    "clms_800 = clms_amt[clms_amt <= 800]\n",
    "num_bins = 100\n",
    "#if clms_amt <=800:\n",
    "#    weights = (1 / clms_amt.shape[0]) * np.ones_like(clms_amt)\n",
    "#else:\n",
    "#    weights = 0\n",
    "weights = (1 / clms_amt.shape[0]) * np.ones_like(clms_800)\n",
    "count, num_bins, patches = plt.hist(clms_800, num_bins, weights=weights, rwidth = 0.9)\n",
    "plt.title('Claim amounts Frequence Histrogram under 800')\n",
    "plt.xlabel(r'Value of monthly health expenditures')\n",
    "plt.ylabel(r'Percent of observations in the particular bin')\n",
    "#plt.xlim([0, 800])  # This gives the xmin and xmax to be plotted\n",
    "#plt.ylim([0, 1])  # This gives the ymin and ymax to be plotted"
   ]
  },
  {
   "cell_type": "code",
   "execution_count": 7,
   "metadata": {},
   "outputs": [
    {
     "name": "stdout",
     "output_type": "stream",
     "text": [
      "1.0000000000000322\n",
      "0.8494208494208465\n",
      "Clearly th second histogram is more informative to the eye. This is because the tail is too long. In other words, there are many different claims over 800 dolars, however, they are unfrequent. So, it makes sense to look at those that are much more frequent.\n"
     ]
    }
   ],
   "source": [
    "#Sum of bins\n",
    "print(n.sum())\n",
    "print(count.sum())\n",
    "\n",
    "print('Clearly th second histogram is more informative to the eye. This is because the tail is too long. In other words, there are many different claims over 800 dolars, however, they are unfrequent. So, it makes sense to look at those that are much more frequent.')"
   ]
  },
  {
   "cell_type": "markdown",
   "metadata": {},
   "source": [
    "# b)Using MLE, fit the gamma GA on the data"
   ]
  },
  {
   "cell_type": "code",
   "execution_count": 8,
   "metadata": {},
   "outputs": [],
   "source": [
    "#Define a GA pdf\n",
    "def gamma_ga_pdf(xvals, alpha, beta): \n",
    "    #pdf_vals = ((1 / ((beta ** alpha) * spc.gamma(alpha)))*((xvals) ** ((alpha) - 1)) * (np.exp(-(xvals)/beta)))\n",
    "    gamma_arg = spc.gamma(alpha)\n",
    "    pdf_vals = (1/((beta**alpha) *gamma_arg))*(xvals**(alpha-1))*(np.exp(-(xvals/beta)))\n",
    "    return pdf_vals"
   ]
  },
  {
   "cell_type": "code",
   "execution_count": 9,
   "metadata": {},
   "outputs": [],
   "source": [
    "#Initial guesses\n",
    "beta_0 = (sigma**2)/mu\n",
    "alpha_0 = mu/beta_0"
   ]
  },
  {
   "cell_type": "code",
   "execution_count": 10,
   "metadata": {},
   "outputs": [
    {
     "name": "stdout",
     "output_type": "stream",
     "text": [
      "alpha_0 0.032869701035793376 beta_0 21913.128280141606\n",
      "Log-likelihood GA_0:  -93550.33315018797\n"
     ]
    }
   ],
   "source": [
    "# Define log likelihood function for gamma\n",
    "def log_lik_gamma_ga(xvals, alpha, beta):\n",
    "    pdf_vals = gamma_ga_pdf(xvals, alpha, beta)\n",
    "    pdf_vals[pdf_vals < 1e-10] = 1e-10\n",
    "    ln_pdf_vals = np.log(pdf_vals)\n",
    "    log_lik_val = ln_pdf_vals.sum()\n",
    "    \n",
    "    return log_lik_val\n",
    "print('alpha_0', alpha_0, 'beta_0', beta_0)\n",
    "print('Log-likelihood GA_0: ', log_lik_gamma_ga(clms_amt, alpha_0, beta_0))"
   ]
  },
  {
   "cell_type": "code",
   "execution_count": 11,
   "metadata": {},
   "outputs": [],
   "source": [
    "#Define criterion function for GA\n",
    "def crit(params, *args):\n",
    "    alpha, beta = params\n",
    "    xvals = args\n",
    "    log_lik_val = log_lik_gamma_ga(xvals, alpha, beta)\n",
    "    neg_log_lik_val = -log_lik_val\n",
    "    \n",
    "    return neg_log_lik_val"
   ]
  },
  {
   "cell_type": "code",
   "execution_count": 12,
   "metadata": {},
   "outputs": [
    {
     "name": "stdout",
     "output_type": "stream",
     "text": [
      "alpha_ga_mle= 0.5570632380271622\n",
      "beta_ga_mle= 998.4240425089374\n",
      "Log_lik_ga_mle -77001.36878468955\n"
     ]
    }
   ],
   "source": [
    "#Minimize GA using MLE\n",
    "import scipy.optimize as opt\n",
    "clms_amt[clms_amt < 1e-10] = 1e-10\n",
    "alpha_init = alpha_0\n",
    "beta_init = beta_0\n",
    "mle_args = clms_amt\n",
    "params_init = np.array([alpha_init, beta_init])\n",
    "#print(\"args\", params_init)\n",
    "results_uncstr = opt.minimize(crit, params_init, args=(mle_args), method = 'TNC',\n",
    "                              bounds=((1e-10, None), (1e-10, None)), tol=1e-12)\n",
    "alpha_ga_mle, beta_ga_mle = results_uncstr.x\n",
    "ga_mle = log_lik_gamma_ga(clms_amt, alpha_ga_mle, beta_ga_mle)\n",
    "print('alpha_ga_mle=', alpha_ga_mle)\n",
    "print('beta_ga_mle=', beta_ga_mle)\n",
    "print('Log_lik_ga_mle',ga_mle)"
   ]
  },
  {
   "cell_type": "code",
   "execution_count": 13,
   "metadata": {},
   "outputs": [
    {
     "name": "stdout",
     "output_type": "stream",
     "text": [
      "Alpha: 0.5570632380271622\n",
      "Beta: 998.4240425089374\n",
      "m: 1\n"
     ]
    },
    {
     "data": {
      "text/plain": [
       "<matplotlib.legend.Legend at 0x1b0213bcbc8>"
      ]
     },
     "execution_count": 13,
     "metadata": {},
     "output_type": "execute_result"
    },
    {
     "data": {
      "image/png": "[encoded data removed]",
      "text/plain": [
       "<Figure size 432x288 with 1 Axes>"
      ]
     },
     "metadata": {
      "needs_background": "light"
     },
     "output_type": "display_data"
    }
   ],
   "source": [
    "#Frequency Histogram under 800 with GA_mle\n",
    "plt.clf()\n",
    "plt.cla()\n",
    "plt.close()\n",
    "clms_800 = clms_amt[clms_amt <= 800]\n",
    "num_bins = 100\n",
    "weights = (1 / clms_amt.shape[0]) * np.ones_like(clms_800)\n",
    "count, num_bins, patches = plt.hist(clms_800, num_bins, weights=weights, rwidth = 0.9)\n",
    "plt.title('Claim amounts Frequence Histrogram under 800 and GA')\n",
    "plt.xlabel(r'Value of monthly health expenditures')\n",
    "plt.ylabel(r'Percent of observations in the particular bin')\n",
    "\n",
    "# Plot smooth line with distribution 1\n",
    "dist_clms = np.linspace(1, 800, 100)\n",
    "beta_p = beta_ga_mle\n",
    "alpha_p = alpha_ga_mle\n",
    "m_p = 1\n",
    "print(\"Alpha:\", alpha_p)\n",
    "print(\"Beta:\", beta_p)\n",
    "print(\"m:\", m_p)\n",
    "plt.plot(dist_clms, gamma_ga_pdf(dist_clms, alpha_p, beta_p),\n",
    "         linewidth=2, color='r', label='1: alpha=mle,beta=mle,m=1')\n",
    "plt.legend(loc='upper left')"
   ]
  },
  {
   "cell_type": "markdown",
   "metadata": {},
   "source": [
    "# c) Using MLE, fit the generalized gamma distribution to the individual observation data"
   ]
  },
  {
   "cell_type": "code",
   "execution_count": 14,
   "metadata": {},
   "outputs": [],
   "source": [
    "#Define GG pdf\n",
    "#import scipy.special as spc\n",
    "def gamma_gg_pdf(xvals, alpha, beta, m):\n",
    "    gamma_arg = (alpha/m)\n",
    "    gamma_calc = spc.gamma(gamma_arg)\n",
    "   \n",
    "    pdf_vals = (m/((beta**alpha) *gamma_calc))*(xvals**(alpha-1))*(np.exp(-((xvals/beta)**m)))\n",
    "    return pdf_vals"
   ]
  },
  {
   "cell_type": "code",
   "execution_count": 15,
   "metadata": {},
   "outputs": [
    {
     "name": "stdout",
     "output_type": "stream",
     "text": [
      "Log-likelihood GG_0:  -77001.36878468955\n"
     ]
    }
   ],
   "source": [
    "# Define log likelihood function for GG\n",
    "def log_lik_gamma_gg(xvals, alpha, beta, m):\n",
    "    pdf_vals = gamma_gg_pdf(xvals, alpha, beta, m)\n",
    "    pdf_vals[pdf_vals < 1e-10] = 1e-10\n",
    "    ln_pdf_vals = np.log(pdf_vals)\n",
    "    log_lik_val = ln_pdf_vals.sum()\n",
    "    \n",
    "    return log_lik_val\n",
    "\n",
    "print('Log-likelihood GG_0: ', log_lik_gamma_gg(clms_amt, alpha_ga_mle, beta_ga_mle, 1))"
   ]
  },
  {
   "cell_type": "code",
   "execution_count": 16,
   "metadata": {},
   "outputs": [],
   "source": [
    "#Define criterion function for GG\n",
    "def crit_gg(params, *args):\n",
    "    alpha, beta, m = params\n",
    "    xvals = args\n",
    "    log_lik_val = log_lik_gamma_gg(xvals, alpha, beta, m)\n",
    "    neg_log_lik_val = -log_lik_val\n",
    "    \n",
    "    return neg_log_lik_val"
   ]
  },
  {
   "cell_type": "code",
   "execution_count": 17,
   "metadata": {},
   "outputs": [
    {
     "name": "stdout",
     "output_type": "stream",
     "text": [
      "alpha_gg_mle= 1.201863829651293\n",
      "beta_gg_mle= 6.125170836345546\n",
      "m_gg_mle= 0.337753516697089\n",
      "Log_lik_gg_mle -75295.2588187889\n"
     ]
    }
   ],
   "source": [
    "#Optimize for GG using MLE\n",
    "import scipy.optimize as opt\n",
    "#clms_amt[clms_amt < 1e-10] = 1e-10\n",
    "alpha_init = alpha_ga_mle\n",
    "beta_init = beta_ga_mle\n",
    "m_init = 1\n",
    "mle_args = clms_amt\n",
    "params_init = np.array([alpha_init, beta_init, m_init])\n",
    "#print(\"args\", params_init)\n",
    "results_uncstr = opt.minimize(crit_gg, params_init, args=(mle_args), method = 'TNC',\n",
    "                              bounds=((1e-10, None), (1e-10, None), (1e-10, None)), tol=1e-12)\n",
    "alpha_gg_mle, beta_gg_mle, m_gg_mle = results_uncstr.x\n",
    "gg_mle = log_lik_gamma_gg(clms_amt, alpha_gg_mle, beta_gg_mle, m_gg_mle)\n",
    "print('alpha_gg_mle=', alpha_gg_mle)\n",
    "print('beta_gg_mle=', beta_gg_mle)\n",
    "print('m_gg_mle=', m_gg_mle)\n",
    "print('Log_lik_gg_mle',gg_mle)"
   ]
  },
  {
   "cell_type": "code",
   "execution_count": 18,
   "metadata": {},
   "outputs": [
    {
     "name": "stdout",
     "output_type": "stream",
     "text": [
      "Alpha: 1.201863829651293\n",
      "Beta: 6.125170836345546\n",
      "m: 0.337753516697089\n"
     ]
    },
    {
     "data": {
      "text/plain": [
       "<matplotlib.legend.Legend at 0x1b0215adf88>"
      ]
     },
     "execution_count": 18,
     "metadata": {},
     "output_type": "execute_result"
    },
    {
     "data": {
      "image/png": "[encoded data removed]",
      "text/plain": [
       "<Figure size 432x288 with 1 Axes>"
      ]
     },
     "metadata": {
      "needs_background": "light"
     },
     "output_type": "display_data"
    }
   ],
   "source": [
    "#Frequency Histogram under 800 with GG\n",
    "plt.clf()\n",
    "plt.cla()\n",
    "plt.close()\n",
    "clms_800 = clms_amt[clms_amt <= 800]\n",
    "num_bins = 100\n",
    "weights = (1 / clms_amt.shape[0]) * np.ones_like(clms_800)\n",
    "count, num_bins, patches = plt.hist(clms_800, num_bins, weights=weights, rwidth = 0.9)\n",
    "plt.title('Claim amounts Frequence Histrogram under 800 and GG')\n",
    "plt.xlabel(r'Value of monthly health expenditures')\n",
    "plt.ylabel(r'Percent of observations in the particular bin')\n",
    "\n",
    "# Plot smooth line with distribution 1\n",
    "dist_clms = np.linspace(1, 800, 100)\n",
    "beta_p = beta_gg_mle\n",
    "alpha_p = alpha_gg_mle\n",
    "m_p = m_gg_mle\n",
    "print(\"Alpha:\", alpha_p)\n",
    "print(\"Beta:\", beta_p)\n",
    "print(\"m:\", m_gg_mle)\n",
    "plt.plot(dist_clms, gamma_gg_pdf(dist_clms, alpha_p, beta_p, m_p),\n",
    "         linewidth=2, color='r', label='1: alpha=gg_mle,beta=gg_mle,m=gg_mle')\n",
    "plt.legend(loc='upper left')"
   ]
  },
  {
   "cell_type": "markdown",
   "metadata": {},
   "source": [
    "# d) Using MLE, fit the generalized beta 2 GB2"
   ]
  },
  {
   "cell_type": "code",
   "execution_count": 19,
   "metadata": {},
   "outputs": [],
   "source": [
    "#Initial guesses\n",
    "a_0 = m_gg_mle\n",
    "q_0 = 10000\n",
    "b_0 = q_0**(1/m_gg_mle)*beta_gg_mle\n",
    "p_0 = alpha_gg_mle/m_gg_mle"
   ]
  },
  {
   "cell_type": "code",
   "execution_count": 20,
   "metadata": {},
   "outputs": [],
   "source": [
    "#Define GB2 pdf\n",
    "#import scipy.special as spc\n",
    "def gb2_pdf(xvals, a, b, p, q):\n",
    "    \n",
    "    beta_calc = spc.beta(p,q)\n",
    "    pdf_vals = (a*(xvals**((a*p)-1)))/(b**(a*p)*beta_calc*(1+(xvals/b)**a)**(p+q))\n",
    "    \n",
    "    return pdf_vals"
   ]
  },
  {
   "cell_type": "code",
   "execution_count": 21,
   "metadata": {},
   "outputs": [
    {
     "name": "stdout",
     "output_type": "stream",
     "text": [
      "Log-likelihood GB2_0:  -75294.83209185342\n"
     ]
    }
   ],
   "source": [
    "# Define log likelihood function for GB2\n",
    "def log_lik_gb2(xvals, a, b, p, q):\n",
    "    pdf_vals = gb2_pdf(xvals, a, b, p, q)\n",
    "    pdf_vals[pdf_vals < 1e-10] = 1e-10\n",
    "    ln_pdf_vals = np.log(pdf_vals)\n",
    "    log_lik_val = ln_pdf_vals.sum()\n",
    "    \n",
    "    return log_lik_val\n",
    "\n",
    "print('Log-likelihood GB2_0: ', log_lik_gb2(clms_amt, a_0, b_0, p_0, q_0))"
   ]
  },
  {
   "cell_type": "code",
   "execution_count": 22,
   "metadata": {},
   "outputs": [],
   "source": [
    "#Define crterion function for GB2\n",
    "def crit_gb2(params, *args):\n",
    "    a, b, p, q = params\n",
    "    xvals = args\n",
    "    log_lik_val = log_lik_gb2(xvals, a, b, p, q)\n",
    "    neg_log_lik_val = -log_lik_val\n",
    "    \n",
    "    return neg_log_lik_val"
   ]
  },
  {
   "cell_type": "code",
   "execution_count": 23,
   "metadata": {},
   "outputs": [
    {
     "name": "stdout",
     "output_type": "stream",
     "text": [
      "a_gb2_mle= 0.3384012279152383\n",
      "b_gb2_mle= 4266523049842.794\n",
      "p_gb2_mle= 3.5584093679726783\n",
      "q_gb2_mle= 9999.993020652317\n",
      "Log_lik_gb2_mle -75290.63017822735\n"
     ]
    }
   ],
   "source": [
    "#Optimize GB2 using MLE\n",
    "import scipy.optimize as opt\n",
    "#clms_amt[clms_amt < 1e-10] = 1e-10\n",
    "a_init = a_0\n",
    "b_init = b_0\n",
    "p_init = p_0\n",
    "q_init = q_0\n",
    "mle_args = clms_amt\n",
    "params_init = np.array([a_init, b_init, p_init, q_init])\n",
    "#print(\"args\", params_init)\n",
    "results_uncstr = opt.minimize(crit_gb2, params_init, args=(mle_args), method = 'TNC',\n",
    "                              bounds=((1e-10, None), (1e-10, None), (1e-10, None), (1e-10, None)), tol=1e-12)\n",
    "a_gb2_mle, b_gb2_mle, p_gb2_mle, q_gb2_mle = results_uncstr.x\n",
    "gb2_mle = log_lik_gb2(clms_amt, a_gb2_mle, b_gb2_mle, p_gb2_mle, q_gb2_mle)\n",
    "print('a_gb2_mle=', a_gb2_mle)\n",
    "print('b_gb2_mle=', b_gb2_mle)\n",
    "print('p_gb2_mle=', p_gb2_mle)\n",
    "print('q_gb2_mle=', q_gb2_mle)\n",
    "print('Log_lik_gb2_mle',gb2_mle)"
   ]
  },
  {
   "cell_type": "code",
   "execution_count": 24,
   "metadata": {},
   "outputs": [
    {
     "name": "stdout",
     "output_type": "stream",
     "text": [
      "a: 0.3384012279152383\n",
      "b: 4266523049842.794\n",
      "p: 3.5584093679726783\n",
      "q: 9999.993020652317\n"
     ]
    },
    {
     "data": {
      "text/plain": [
       "<matplotlib.legend.Legend at 0x1b021364548>"
      ]
     },
     "execution_count": 24,
     "metadata": {},
     "output_type": "execute_result"
    },
    {
     "data": {
      "image/png": "[encoded data removed]",
      "text/plain": [
       "<Figure size 432x288 with 1 Axes>"
      ]
     },
     "metadata": {
      "needs_background": "light"
     },
     "output_type": "display_data"
    }
   ],
   "source": [
    "#Frequency Histogram under 800 and GB2\n",
    "plt.clf()\n",
    "plt.cla()\n",
    "plt.close()\n",
    "clms_800 = clms_amt[clms_amt <= 800]\n",
    "num_bins = 100\n",
    "weights = (1 / clms_amt.shape[0]) * np.ones_like(clms_800)\n",
    "count, num_bins, patches = plt.hist(clms_800, num_bins, weights=weights, rwidth = 0.9)\n",
    "plt.title('Claim amounts Frequence Histrogram under 800 and GB2')\n",
    "plt.xlabel(r'Value of monthly health expenditures')\n",
    "plt.ylabel(r'Percent of observations in the particular bin')\n",
    "\n",
    "# Plot smooth line with distribution 1\n",
    "dist_clms = np.linspace(1, 800, 100)\n",
    "a_p = a_gb2_mle\n",
    "b_p = b_gb2_mle\n",
    "p_p = p_gb2_mle\n",
    "q_p = q_gb2_mle\n",
    "print(\"a:\", a_p)\n",
    "print(\"b:\", b_p)\n",
    "print(\"p:\", p_p)\n",
    "print(\"q:\", q_p)\n",
    "plt.plot(dist_clms, gb2_pdf(dist_clms, a_p, b_p, p_p, q_p),\n",
    "         linewidth=2, color='r', label='1: a=gb2_mle,b=gb2_mle,p=gb2_mle,q=gb2_mle')\n",
    "plt.legend(loc='upper left')"
   ]
  },
  {
   "cell_type": "markdown",
   "metadata": {},
   "source": [
    "# e) Perform a likelihood ratio test for each of the estimated in parts (b) and (c), respectively, against the GB2 specification in part (d)."
   ]
  },
  {
   "cell_type": "code",
   "execution_count": 25,
   "metadata": {},
   "outputs": [
    {
     "name": "stdout",
     "output_type": "stream",
     "text": [
      "GA: alpha= 0.5570632380271622 beta= 998.4240425089374\n",
      "GB2: a= 0.3384012279152383 b= 4266523049842.794 p= 3.5584093679726783 q= 9999.993020652317\n",
      "hypothesis value log likelihood -77001.36878468955\n",
      "GB2 log likelihood -75290.63017822735\n",
      "likelihood ratio value 3421.477212924394\n",
      "chi squared of H0 with 4 degrees of freedom p-value =  0.0\n"
     ]
    }
   ],
   "source": [
    "# Likelihood ratio test GA vs GB2\n",
    "alpha_ga, beta_ga = np.array([alpha_ga_mle, beta_ga_mle])\n",
    "print('GA: alpha=', alpha_ga,'beta=', beta_ga)\n",
    "print('GB2: a=', a_gb2_mle, 'b=', b_gb2_mle, 'p=', p_gb2_mle, 'q=', q_gb2_mle)\n",
    "log_lik_h0 = log_lik_gamma_ga(clms_amt, alpha_ga_mle, beta_ga_mle)\n",
    "print('hypothesis value log likelihood', log_lik_h0)\n",
    "log_lik_h1 = log_lik_gb2(clms_amt, a_gb2_mle, b_gb2_mle, p_gb2_mle, q_gb2_mle)\n",
    "print('GB2 log likelihood', log_lik_h1)\n",
    "LR_val = 2 * (log_lik_h1 - log_lik_h0)\n",
    "print('likelihood ratio value', LR_val)\n",
    "pval_h0 = 1.0 - sts.chi2.cdf(LR_val, 4)\n",
    "print('chi squared of H0 with 4 degrees of freedom p-value = ', pval_h0)"
   ]
  },
  {
   "cell_type": "code",
   "execution_count": 26,
   "metadata": {},
   "outputs": [
    {
     "name": "stdout",
     "output_type": "stream",
     "text": [
      "GG: alpha= 0.5570632380271622 beta= 998.4240425089374 m= 0.337753516697089\n",
      "GB2: a= 0.3384012279152383 b= 4266523049842.794 p= 3.5584093679726783 q= 9999.993020652317\n",
      "hypothesis value log likelihood -75295.2588187889\n",
      "GB2 log likelihood -75290.63017822735\n",
      "likelihood ratio value 9.257281123107532\n",
      "chi squared of H0 with 4 degrees of freedom p-value =  0.05498072488165939\n"
     ]
    }
   ],
   "source": [
    "# Likelihood ratio test GG vs GB2\n",
    "alpha_gg, beta_gg, m_gg = np.array([alpha_ga_mle, beta_ga_mle, m_gg_mle])\n",
    "print('GG: alpha=', alpha_gg,'beta=', beta_gg, 'm=', m_gg_mle)\n",
    "print('GB2: a=', a_gb2_mle, 'b=', b_gb2_mle, 'p=', p_gb2_mle, 'q=', q_gb2_mle)\n",
    "log_lik_h0 = log_lik_gamma_gg(clms_amt, alpha_gg_mle, beta_gg_mle, m_gg_mle)\n",
    "print('hypothesis value log likelihood', log_lik_h0)\n",
    "log_lik_h1 = log_lik_gb2(clms_amt, a_gb2_mle, b_gb2_mle, p_gb2_mle, q_gb2_mle)\n",
    "print('GB2 log likelihood', log_lik_h1)\n",
    "LR_val = 2 * (log_lik_h1 - log_lik_h0)\n",
    "print('likelihood ratio value', LR_val)\n",
    "pval_h0 = 1.0 - sts.chi2.cdf(LR_val, 4)\n",
    "print('chi squared of H0 with 4 degrees of freedom p-value = ', pval_h0)"
   ]
  },
  {
   "cell_type": "markdown",
   "metadata": {},
   "source": [
    "# f) Using the estimated GB2 distribution from part (d), how likely am I to have a monthly health care claim of more than 1,000 dollars? How does this amount change if I use the estimated GA distribution from part (b)?"
   ]
  },
  {
   "cell_type": "code",
   "execution_count": 27,
   "metadata": {},
   "outputs": [],
   "source": [
    "#Claim of 1000 dolars\n",
    "clm_h0 = 1000"
   ]
  },
  {
   "cell_type": "code",
   "execution_count": 28,
   "metadata": {},
   "outputs": [],
   "source": [
    "#Using Library from https://github.com/cjohnst5/GBdistributiontree/blob/master/gb2library.py for cdfs\n",
    "from scipy.special import beta, gamma, betaln, gammaln, betainc, gammainc, erf\n",
    "from scipy.special import betaln, gammaln, beta, gamma, betainc, gammainc"
   ]
  },
  {
   "cell_type": "code",
   "execution_count": 29,
   "metadata": {},
   "outputs": [],
   "source": [
    "#Define cdf for GB2\n",
    "def gb2_cdf( a, b, p, q, y):\n",
    "        z = np.exp(a * np.log((y/b)) - a*np.log(1 + (y/b)))\n",
    "        cdf = betainc(p, q, z)\n",
    "        return cdf"
   ]
  },
  {
   "cell_type": "code",
   "execution_count": 30,
   "metadata": {},
   "outputs": [
    {
     "name": "stdout",
     "output_type": "stream",
     "text": [
      "Probability of claim higher than 1000 dollars:\n",
      "Prob_GB2 0.14422721097537305\n"
     ]
    }
   ],
   "source": [
    "#Probability calculation with GB2 cdf\n",
    "gb2_cdf_calc = gb2_cdf( a_gb2_mle, b_gb2_mle, p_gb2_mle, q_gb2_mle, clm_h0)\n",
    "prob_gb2 = 1 - gb2_cdf_calc\n",
    "print('Probability of claim higher than 1000 dollars:')\n",
    "print('Prob_GB2', prob_gb2)"
   ]
  },
  {
   "cell_type": "code",
   "execution_count": 31,
   "metadata": {},
   "outputs": [],
   "source": [
    "#Define cdf for GA\n",
    "def ga_cdf(alpha, beta, m, y):\n",
    "        z = (y/beta)**alpha\n",
    "        cdf = gammainc(m, z)\n",
    "        return cdf "
   ]
  },
  {
   "cell_type": "code",
   "execution_count": 32,
   "metadata": {},
   "outputs": [
    {
     "name": "stdout",
     "output_type": "stream",
     "text": [
      "Probability of claim higher than 1000 dollars:\n",
      "Prob_GA 0.36755622215816786\n"
     ]
    }
   ],
   "source": [
    "#Probability calculation with GA cdf\n",
    "ga_cdf_calc = ga_cdf(alpha_ga_mle, beta_ga_mle, 1, clm_h0)\n",
    "prob_ga = 1 - ga_cdf_calc\n",
    "print('Probability of claim higher than 1000 dollars:')\n",
    "print('Prob_GA', prob_ga)"
   ]
  },
  {
   "cell_type": "markdown",
   "metadata": {},
   "source": [
    "# 2. MLE estimation of simple macroeconomic model"
   ]
  },
  {
   "cell_type": "code",
   "execution_count": 33,
   "metadata": {},
   "outputs": [],
   "source": [
    "# Import the necessary libraries\n",
    "import numpy as np\n",
    "import scipy.stats as sts\n",
    "import requests\n",
    "import statistics\n",
    "import matplotlib.pyplot as plt\n",
    "%matplotlib notebook\n",
    "import pandas as pd\n",
    "import scipy.special as spc"
   ]
  },
  {
   "cell_type": "code",
   "execution_count": 34,
   "metadata": {},
   "outputs": [],
   "source": [
    "#Import data\n",
    "#macroseries = np.loadtxt('C:\\\\Users\\joset\\Documents\\GitHub\\StructEst_W20\\ProblemSets\\PS2\\MacroSeries.txt', delimiter=',')\n",
    "macroseries = np.loadtxt('MacroSeries.txt', delimiter=',')"
   ]
  },
  {
   "cell_type": "code",
   "execution_count": 35,
   "metadata": {},
   "outputs": [
    {
     "name": "stdout",
     "output_type": "stream",
     "text": [
      "c4 [8140994.1833072] k4 [5632135.94271214] w4 [8082465.98137312] r4 [1.03918305]\n"
     ]
    }
   ],
   "source": [
    "#Reshape data\n",
    "c = macroseries[:,[0]]\n",
    "k = macroseries[:,[1]]\n",
    "w = macroseries[:,[2]]\n",
    "r = macroseries[:,[3]]\n",
    "print('c4',c[4],'k4',k[4],'w4',w[4],'r4',r[4])"
   ]
  },
  {
   "cell_type": "markdown",
   "metadata": {},
   "source": [
    "# Assume z_0=mu so that z_1=mu. Also beta=0.99"
   ]
  },
  {
   "cell_type": "markdown",
   "metadata": {},
   "source": [
    "# a) Use the data and equations (3) and (5) to estimate the four parameters by maximum likelihood."
   ]
  },
  {
   "cell_type": "code",
   "execution_count": 36,
   "metadata": {},
   "outputs": [],
   "source": [
    "#First estimate z_t (eqn) given initial guesses\n",
    "alpha_0=0.3\n",
    "beta=0.99\n",
    "rho_0=0.4\n",
    "mu_0=0.7\n",
    "sigma_0=0.6\n",
    "err_mu_0=0\n",
    "\n",
    "alpha=alpha_0\n",
    "rho=rho_0\n",
    "mu=mu_0\n",
    "sigma=sigma_0\n",
    "\n",
    "z=np.log(w)-np.log(1-alpha)-alpha*np.log(k)"
   ]
  },
  {
   "cell_type": "code",
   "execution_count": 37,
   "metadata": {},
   "outputs": [
    {
     "name": "stdout",
     "output_type": "stream",
     "text": [
      "          t-1       t+1\n",
      "t-1  1.000000  0.803946\n",
      "t+1  0.803946  1.000000\n"
     ]
    }
   ],
   "source": [
    "#Build lag of z\n",
    "from pandas import DataFrame\n",
    "from pandas import concat\n",
    "values = DataFrame(z)\n",
    "dataframe = concat([values.shift(1), values], axis=1)\n",
    "dataframe.columns = ['t-1', 't+1']\n",
    "zlag = values.shift(1)\n",
    "result = dataframe.corr()\n",
    "print(result)"
   ]
  },
  {
   "cell_type": "code",
   "execution_count": 38,
   "metadata": {},
   "outputs": [
    {
     "data": {
      "application/javascript": [
       "/* Put everything inside the global mpl namespace */\n",
       "window.mpl = {};\n",
       "\n",
       "\n",
       "mpl.get_websocket_type = function() {\n",
       "    if (typeof(WebSocket) !== 'undefined') {\n",
       "        return WebSocket;\n",
       "    } else if (typeof(MozWebSocket) !== 'undefined') {\n",
       "        return MozWebSocket;\n",
       "    } else {\n",
       "        alert('Your browser does not have WebSocket support. ' +\n",
       "              'Please try Chrome, Safari or Firefox ≥ 6. ' +\n",
       "              'Firefox 4 and 5 are also supported but you ' +\n",
       "              'have to enable WebSockets in about:config.');\n",
       "    };\n",
       "}\n",
       "\n",
       "mpl.figure = function(figure_id, websocket, ondownload, parent_element) {\n",
       "    this.id = figure_id;\n",
       "\n",
       "    this.ws = websocket;\n",
       "\n",
       "    this.supports_binary = (this.ws.binaryType != undefined);\n",
       "\n",
       "    if (!this.supports_binary) {\n",
       "        var warnings = document.getElementById(\"mpl-warnings\");\n",
       "        if (warnings) {\n",
       "            warnings.style.display = 'block';\n",
       "            warnings.textContent = (\n",
       "                \"This browser does not support binary websocket messages. \" +\n",
       "                    \"Performance may be slow.\");\n",
       "        }\n",
       "    }\n",
       "\n",
       "    this.imageObj = new Image();\n",
       "\n",
       "    this.context = undefined;\n",
       "    this.message = undefined;\n",
       "    this.canvas = undefined;\n",
       "    this.rubberband_canvas = undefined;\n",
       "    this.rubberband_context = undefined;\n",
       "    this.format_dropdown = undefined;\n",
       "\n",
       "    this.image_mode = 'full';\n",
       "\n",
       "    this.root = $('<div/>');\n",
       "    this._root_extra_style(this.root)\n",
       "    this.root.attr('style', 'display: inline-block');\n",
       "\n",
       "    $(parent_element).append(this.root);\n",
       "\n",
       "    this._init_header(this);\n",
       "    this._init_canvas(this);\n",
       "    this._init_toolbar(this);\n",
       "\n",
       "    var fig = this;\n",
       "\n",
       "    this.waiting = false;\n",
       "\n",
       "    this.ws.onopen =  function () {\n",
       "            fig.send_message(\"supports_binary\", {value: fig.supports_binary});\n",
       "            fig.send_message(\"send_image_mode\", {});\n",
       "            if (mpl.ratio != 1) {\n",
       "                fig.send_message(\"set_dpi_ratio\", {'dpi_ratio': mpl.ratio});\n",
       "            }\n",
       "            fig.send_message(\"refresh\", {});\n",
       "        }\n",
       "\n",
       "    this.imageObj.onload = function() {\n",
       "            if (fig.image_mode == 'full') {\n",
       "                // Full images could contain transparency (where diff images\n",
       "                // almost always do), so we need to clear the canvas so that\n",
       "                // there is no ghosting.\n",
       "                fig.context.clearRect(0, 0, fig.canvas.width, fig.canvas.height);\n",
       "            }\n",
       "            fig.context.drawImage(fig.imageObj, 0, 0);\n",
       "        };\n",
       "\n",
       "    this.imageObj.onunload = function() {\n",
       "        fig.ws.close();\n",
       "    }\n",
       "\n",
       "    this.ws.onmessage = this._make_on_message_function(this);\n",
       "\n",
       "    this.ondownload = ondownload;\n",
       "}\n",
       "\n",
       "mpl.figure.prototype._init_header = function() {\n",
       "    var titlebar = $(\n",
       "        '<div class=\"ui-dialog-titlebar ui-widget-header ui-corner-all ' +\n",
       "        'ui-helper-clearfix\"/>');\n",
       "    var titletext = $(\n",
       "        '<div class=\"ui-dialog-title\" style=\"width: 100%; ' +\n",
       "        'text-align: center; padding: 3px;\"/>');\n",
       "    titlebar.append(titletext)\n",
       "    this.root.append(titlebar);\n",
       "    this.header = titletext[0];\n",
       "}\n",
       "\n",
       "\n",
       "\n",
       "mpl.figure.prototype._canvas_extra_style = function(canvas_div) {\n",
       "\n",
       "}\n",
       "\n",
       "\n",
       "mpl.figure.prototype._root_extra_style = function(canvas_div) {\n",
       "\n",
       "}\n",
       "\n",
       "mpl.figure.prototype._init_canvas = function() {\n",
       "    var fig = this;\n",
       "\n",
       "    var canvas_div = $('<div/>');\n",
       "\n",
       "    canvas_div.attr('style', 'position: relative; clear: both; outline: 0');\n",
       "\n",
       "    function canvas_keyboard_event(event) {\n",
       "        return fig.key_event(event, event['data']);\n",
       "    }\n",
       "\n",
       "    canvas_div.keydown('key_press', canvas_keyboard_event);\n",
       "    canvas_div.keyup('key_release', canvas_keyboard_event);\n",
       "    this.canvas_div = canvas_div\n",
       "    this._canvas_extra_style(canvas_div)\n",
       "    this.root.append(canvas_div);\n",
       "\n",
       "    var canvas = $('<canvas/>');\n",
       "    canvas.addClass('mpl-canvas');\n",
       "    canvas.attr('style', \"left: 0; top: 0; z-index: 0; outline: 0\")\n",
       "\n",
       "    this.canvas = canvas[0];\n",
       "    this.context = canvas[0].getContext(\"2d\");\n",
       "\n",
       "    var backingStore = this.context.backingStorePixelRatio ||\n",
       "\tthis.context.webkitBackingStorePixelRatio ||\n",
       "\tthis.context.mozBackingStorePixelRatio ||\n",
       "\tthis.context.msBackingStorePixelRatio ||\n",
       "\tthis.context.oBackingStorePixelRatio ||\n",
       "\tthis.context.backingStorePixelRatio || 1;\n",
       "\n",
       "    mpl.ratio = (window.devicePixelRatio || 1) / backingStore;\n",
       "\n",
       "    var rubberband = $('<canvas/>');\n",
       "    rubberband.attr('style', \"position: absolute; left: 0; top: 0; z-index: 1;\")\n",
       "\n",
       "    var pass_mouse_events = true;\n",
       "\n",
       "    canvas_div.resizable({\n",
       "        start: function(event, ui) {\n",
       "            pass_mouse_events = false;\n",
       "        },\n",
       "        resize: function(event, ui) {\n",
       "            fig.request_resize(ui.size.width, ui.size.height);\n",
       "        },\n",
       "        stop: function(event, ui) {\n",
       "            pass_mouse_events = true;\n",
       "            fig.request_resize(ui.size.width, ui.size.height);\n",
       "        },\n",
       "    });\n",
       "\n",
       "    function mouse_event_fn(event) {\n",
       "        if (pass_mouse_events)\n",
       "            return fig.mouse_event(event, event['data']);\n",
       "    }\n",
       "\n",
       "    rubberband.mousedown('button_press', mouse_event_fn);\n",
       "    rubberband.mouseup('button_release', mouse_event_fn);\n",
       "    // Throttle sequential mouse events to 1 every 20ms.\n",
       "    rubberband.mousemove('motion_notify', mouse_event_fn);\n",
       "\n",
       "    rubberband.mouseenter('figure_enter', mouse_event_fn);\n",
       "    rubberband.mouseleave('figure_leave', mouse_event_fn);\n",
       "\n",
       "    canvas_div.on(\"wheel\", function (event) {\n",
       "        event = event.originalEvent;\n",
       "        event['data'] = 'scroll'\n",
       "        if (event.deltaY < 0) {\n",
       "            event.step = 1;\n",
       "        } else {\n",
       "            event.step = -1;\n",
       "        }\n",
       "        mouse_event_fn(event);\n",
       "    });\n",
       "\n",
       "    canvas_div.append(canvas);\n",
       "    canvas_div.append(rubberband);\n",
       "\n",
       "    this.rubberband = rubberband;\n",
       "    this.rubberband_canvas = rubberband[0];\n",
       "    this.rubberband_context = rubberband[0].getContext(\"2d\");\n",
       "    this.rubberband_context.strokeStyle = \"#000000\";\n",
       "\n",
       "    this._resize_canvas = function(width, height) {\n",
       "        // Keep the size of the canvas, canvas container, and rubber band\n",
       "        // canvas in synch.\n",
       "        canvas_div.css('width', width)\n",
       "        canvas_div.css('height', height)\n",
       "\n",
       "        canvas.attr('width', width * mpl.ratio);\n",
       "        canvas.attr('height', height * mpl.ratio);\n",
       "        canvas.attr('style', 'width: ' + width + 'px; height: ' + height + 'px;');\n",
       "\n",
       "        rubberband.attr('width', width);\n",
       "        rubberband.attr('height', height);\n",
       "    }\n",
       "\n",
       "    // Set the figure to an initial 600x600px, this will subsequently be updated\n",
       "    // upon first draw.\n",
       "    this._resize_canvas(600, 600);\n",
       "\n",
       "    // Disable right mouse context menu.\n",
       "    $(this.rubberband_canvas).bind(\"contextmenu\",function(e){\n",
       "        return false;\n",
       "    });\n",
       "\n",
       "    function set_focus () {\n",
       "        canvas.focus();\n",
       "        canvas_div.focus();\n",
       "    }\n",
       "\n",
       "    window.setTimeout(set_focus, 100);\n",
       "}\n",
       "\n",
       "mpl.figure.prototype._init_toolbar = function() {\n",
       "    var fig = this;\n",
       "\n",
       "    var nav_element = $('<div/>');\n",
       "    nav_element.attr('style', 'width: 100%');\n",
       "    this.root.append(nav_element);\n",
       "\n",
       "    // Define a callback function for later on.\n",
       "    function toolbar_event(event) {\n",
       "        return fig.toolbar_button_onclick(event['data']);\n",
       "    }\n",
       "    function toolbar_mouse_event(event) {\n",
       "        return fig.toolbar_button_onmouseover(event['data']);\n",
       "    }\n",
       "\n",
       "    for(var toolbar_ind in mpl.toolbar_items) {\n",
       "        var name = mpl.toolbar_items[toolbar_ind][0];\n",
       "        var tooltip = mpl.toolbar_items[toolbar_ind][1];\n",
       "        var image = mpl.toolbar_items[toolbar_ind][2];\n",
       "        var method_name = mpl.toolbar_items[toolbar_ind][3];\n",
       "\n",
       "        if (!name) {\n",
       "            // put a spacer in here.\n",
       "            continue;\n",
       "        }\n",
       "        var button = $('<button/>');\n",
       "        button.addClass('ui-button ui-widget ui-state-default ui-corner-all ' +\n",
       "                        'ui-button-icon-only');\n",
       "        button.attr('role', 'button');\n",
       "        button.attr('aria-disabled', 'false');\n",
       "        button.click(method_name, toolbar_event);\n",
       "        button.mouseover(tooltip, toolbar_mouse_event);\n",
       "\n",
       "        var icon_img = $('<span/>');\n",
       "        icon_img.addClass('ui-button-icon-primary ui-icon');\n",
       "        icon_img.addClass(image);\n",
       "        icon_img.addClass('ui-corner-all');\n",
       "\n",
       "        var tooltip_span = $('<span/>');\n",
       "        tooltip_span.addClass('ui-button-text');\n",
       "        tooltip_span.html(tooltip);\n",
       "\n",
       "        button.append(icon_img);\n",
       "        button.append(tooltip_span);\n",
       "\n",
       "        nav_element.append(button);\n",
       "    }\n",
       "\n",
       "    var fmt_picker_span = $('<span/>');\n",
       "\n",
       "    var fmt_picker = $('<select/>');\n",
       "    fmt_picker.addClass('mpl-toolbar-option ui-widget ui-widget-content');\n",
       "    fmt_picker_span.append(fmt_picker);\n",
       "    nav_element.append(fmt_picker_span);\n",
       "    this.format_dropdown = fmt_picker[0];\n",
       "\n",
       "    for (var ind in mpl.extensions) {\n",
       "        var fmt = mpl.extensions[ind];\n",
       "        var option = $(\n",
       "            '<option/>', {selected: fmt === mpl.default_extension}).html(fmt);\n",
       "        fmt_picker.append(option);\n",
       "    }\n",
       "\n",
       "    // Add hover states to the ui-buttons\n",
       "    $( \".ui-button\" ).hover(\n",
       "        function() { $(this).addClass(\"ui-state-hover\");},\n",
       "        function() { $(this).removeClass(\"ui-state-hover\");}\n",
       "    );\n",
       "\n",
       "    var status_bar = $('<span class=\"mpl-message\"/>');\n",
       "    nav_element.append(status_bar);\n",
       "    this.message = status_bar[0];\n",
       "}\n",
       "\n",
       "mpl.figure.prototype.request_resize = function(x_pixels, y_pixels) {\n",
       "    // Request matplotlib to resize the figure. Matplotlib will then trigger a resize in the client,\n",
       "    // which will in turn request a refresh of the image.\n",
       "    this.send_message('resize', {'width': x_pixels, 'height': y_pixels});\n",
       "}\n",
       "\n",
       "mpl.figure.prototype.send_message = function(type, properties) {\n",
       "    properties['type'] = type;\n",
       "    properties['figure_id'] = this.id;\n",
       "    this.ws.send(JSON.stringify(properties));\n",
       "}\n",
       "\n",
       "mpl.figure.prototype.send_draw_message = function() {\n",
       "    if (!this.waiting) {\n",
       "        this.waiting = true;\n",
       "        this.ws.send(JSON.stringify({type: \"draw\", figure_id: this.id}));\n",
       "    }\n",
       "}\n",
       "\n",
       "\n",
       "mpl.figure.prototype.handle_save = function(fig, msg) {\n",
       "    var format_dropdown = fig.format_dropdown;\n",
       "    var format = format_dropdown.options[format_dropdown.selectedIndex].value;\n",
       "    fig.ondownload(fig, format);\n",
       "}\n",
       "\n",
       "\n",
       "mpl.figure.prototype.handle_resize = function(fig, msg) {\n",
       "    var size = msg['size'];\n",
       "    if (size[0] != fig.canvas.width || size[1] != fig.canvas.height) {\n",
       "        fig._resize_canvas(size[0], size[1]);\n",
       "        fig.send_message(\"refresh\", {});\n",
       "    };\n",
       "}\n",
       "\n",
       "mpl.figure.prototype.handle_rubberband = function(fig, msg) {\n",
       "    var x0 = msg['x0'] / mpl.ratio;\n",
       "    var y0 = (fig.canvas.height - msg['y0']) / mpl.ratio;\n",
       "    var x1 = msg['x1'] / mpl.ratio;\n",
       "    var y1 = (fig.canvas.height - msg['y1']) / mpl.ratio;\n",
       "    x0 = Math.floor(x0) + 0.5;\n",
       "    y0 = Math.floor(y0) + 0.5;\n",
       "    x1 = Math.floor(x1) + 0.5;\n",
       "    y1 = Math.floor(y1) + 0.5;\n",
       "    var min_x = Math.min(x0, x1);\n",
       "    var min_y = Math.min(y0, y1);\n",
       "    var width = Math.abs(x1 - x0);\n",
       "    var height = Math.abs(y1 - y0);\n",
       "\n",
       "    fig.rubberband_context.clearRect(\n",
       "        0, 0, fig.canvas.width / mpl.ratio, fig.canvas.height / mpl.ratio);\n",
       "\n",
       "    fig.rubberband_context.strokeRect(min_x, min_y, width, height);\n",
       "}\n",
       "\n",
       "mpl.figure.prototype.handle_figure_label = function(fig, msg) {\n",
       "    // Updates the figure title.\n",
       "    fig.header.textContent = msg['label'];\n",
       "}\n",
       "\n",
       "mpl.figure.prototype.handle_cursor = function(fig, msg) {\n",
       "    var cursor = msg['cursor'];\n",
       "    switch(cursor)\n",
       "    {\n",
       "    case 0:\n",
       "        cursor = 'pointer';\n",
       "        break;\n",
       "    case 1:\n",
       "        cursor = 'default';\n",
       "        break;\n",
       "    case 2:\n",
       "        cursor = 'crosshair';\n",
       "        break;\n",
       "    case 3:\n",
       "        cursor = 'move';\n",
       "        break;\n",
       "    }\n",
       "    fig.rubberband_canvas.style.cursor = cursor;\n",
       "}\n",
       "\n",
       "mpl.figure.prototype.handle_message = function(fig, msg) {\n",
       "    fig.message.textContent = msg['message'];\n",
       "}\n",
       "\n",
       "mpl.figure.prototype.handle_draw = function(fig, msg) {\n",
       "    // Request the server to send over a new figure.\n",
       "    fig.send_draw_message();\n",
       "}\n",
       "\n",
       "mpl.figure.prototype.handle_image_mode = function(fig, msg) {\n",
       "    fig.image_mode = msg['mode'];\n",
       "}\n",
       "\n",
       "mpl.figure.prototype.updated_canvas_event = function() {\n",
       "    // Called whenever the canvas gets updated.\n",
       "    this.send_message(\"ack\", {});\n",
       "}\n",
       "\n",
       "// A function to construct a web socket function for onmessage handling.\n",
       "// Called in the figure constructor.\n",
       "mpl.figure.prototype._make_on_message_function = function(fig) {\n",
       "    return function socket_on_message(evt) {\n",
       "        if (evt.data instanceof Blob) {\n",
       "            /* FIXME: We get \"Resource interpreted as Image but\n",
       "             * transferred with MIME type text/plain:\" errors on\n",
       "             * Chrome.  But how to set the MIME type?  It doesn't seem\n",
       "             * to be part of the websocket stream */\n",
       "            evt.data.type = \"image/png\";\n",
       "\n",
       "            /* Free the memory for the previous frames */\n",
       "            if (fig.imageObj.src) {\n",
       "                (window.URL || window.webkitURL).revokeObjectURL(\n",
       "                    fig.imageObj.src);\n",
       "            }\n",
       "\n",
       "            fig.imageObj.src = (window.URL || window.webkitURL).createObjectURL(\n",
       "                evt.data);\n",
       "            fig.updated_canvas_event();\n",
       "            fig.waiting = false;\n",
       "            return;\n",
       "        }\n",
       "        else if (typeof evt.data === 'string' && evt.data.slice(0, 21) == \"data:image/png;base64\") {\n",
       "            fig.imageObj.src = evt.data;\n",
       "            fig.updated_canvas_event();\n",
       "            fig.waiting = false;\n",
       "            return;\n",
       "        }\n",
       "\n",
       "        var msg = JSON.parse(evt.data);\n",
       "        var msg_type = msg['type'];\n",
       "\n",
       "        // Call the  \"handle_{type}\" callback, which takes\n",
       "        // the figure and JSON message as its only arguments.\n",
       "        try {\n",
       "            var callback = fig[\"handle_\" + msg_type];\n",
       "        } catch (e) {\n",
       "            console.log(\"No handler for the '\" + msg_type + \"' message type: \", msg);\n",
       "            return;\n",
       "        }\n",
       "\n",
       "        if (callback) {\n",
       "            try {\n",
       "                // console.log(\"Handling '\" + msg_type + \"' message: \", msg);\n",
       "                callback(fig, msg);\n",
       "            } catch (e) {\n",
       "                console.log(\"Exception inside the 'handler_\" + msg_type + \"' callback:\", e, e.stack, msg);\n",
       "            }\n",
       "        }\n",
       "    };\n",
       "}\n",
       "\n",
       "// from http://stackoverflow.com/questions/1114465/getting-mouse-location-in-canvas\n",
       "mpl.findpos = function(e) {\n",
       "    //this section is from http://www.quirksmode.org/js/events_properties.html\n",
       "    var targ;\n",
       "    if (!e)\n",
       "        e = window.event;\n",
       "    if (e.target)\n",
       "        targ = e.target;\n",
       "    else if (e.srcElement)\n",
       "        targ = e.srcElement;\n",
       "    if (targ.nodeType == 3) // defeat Safari bug\n",
       "        targ = targ.parentNode;\n",
       "\n",
       "    // jQuery normalizes the pageX and pageY\n",
       "    // pageX,Y are the mouse positions relative to the document\n",
       "    // offset() returns the position of the element relative to the document\n",
       "    var x = e.pageX - $(targ).offset().left;\n",
       "    var y = e.pageY - $(targ).offset().top;\n",
       "\n",
       "    return {\"x\": x, \"y\": y};\n",
       "};\n",
       "\n",
       "/*\n",
       " * return a copy of an object with only non-object keys\n",
       " * we need this to avoid circular references\n",
       " * http://stackoverflow.com/a/24161582/3208463\n",
       " */\n",
       "function simpleKeys (original) {\n",
       "  return Object.keys(original).reduce(function (obj, key) {\n",
       "    if (typeof original[key] !== 'object')\n",
       "        obj[key] = original[key]\n",
       "    return obj;\n",
       "  }, {});\n",
       "}\n",
       "\n",
       "mpl.figure.prototype.mouse_event = function(event, name) {\n",
       "    var canvas_pos = mpl.findpos(event)\n",
       "\n",
       "    if (name === 'button_press')\n",
       "    {\n",
       "        this.canvas.focus();\n",
       "        this.canvas_div.focus();\n",
       "    }\n",
       "\n",
       "    var x = canvas_pos.x * mpl.ratio;\n",
       "    var y = canvas_pos.y * mpl.ratio;\n",
       "\n",
       "    this.send_message(name, {x: x, y: y, button: event.button,\n",
       "                             step: event.step,\n",
       "                             guiEvent: simpleKeys(event)});\n",
       "\n",
       "    /* This prevents the web browser from automatically changing to\n",
       "     * the text insertion cursor when the button is pressed.  We want\n",
       "     * to control all of the cursor setting manually through the\n",
       "     * 'cursor' event from matplotlib */\n",
       "    event.preventDefault();\n",
       "    return false;\n",
       "}\n",
       "\n",
       "mpl.figure.prototype._key_event_extra = function(event, name) {\n",
       "    // Handle any extra behaviour associated with a key event\n",
       "}\n",
       "\n",
       "mpl.figure.prototype.key_event = function(event, name) {\n",
       "\n",
       "    // Prevent repeat events\n",
       "    if (name == 'key_press')\n",
       "    {\n",
       "        if (event.which === this._key)\n",
       "            return;\n",
       "        else\n",
       "            this._key = event.which;\n",
       "    }\n",
       "    if (name == 'key_release')\n",
       "        this._key = null;\n",
       "\n",
       "    var value = '';\n",
       "    if (event.ctrlKey && event.which != 17)\n",
       "        value += \"ctrl+\";\n",
       "    if (event.altKey && event.which != 18)\n",
       "        value += \"alt+\";\n",
       "    if (event.shiftKey && event.which != 16)\n",
       "        value += \"shift+\";\n",
       "\n",
       "    value += 'k';\n",
       "    value += event.which.toString();\n",
       "\n",
       "    this._key_event_extra(event, name);\n",
       "\n",
       "    this.send_message(name, {key: value,\n",
       "                             guiEvent: simpleKeys(event)});\n",
       "    return false;\n",
       "}\n",
       "\n",
       "mpl.figure.prototype.toolbar_button_onclick = function(name) {\n",
       "    if (name == 'download') {\n",
       "        this.handle_save(this, null);\n",
       "    } else {\n",
       "        this.send_message(\"toolbar_button\", {name: name});\n",
       "    }\n",
       "};\n",
       "\n",
       "mpl.figure.prototype.toolbar_button_onmouseover = function(tooltip) {\n",
       "    this.message.textContent = tooltip;\n",
       "};\n",
       "mpl.toolbar_items = [[\"Home\", \"Reset original view\", \"fa fa-home icon-home\", \"home\"], [\"Back\", \"Back to previous view\", \"fa fa-arrow-left icon-arrow-left\", \"back\"], [\"Forward\", \"Forward to next view\", \"fa fa-arrow-right icon-arrow-right\", \"forward\"], [\"\", \"\", \"\", \"\"], [\"Pan\", \"Pan axes with left mouse, zoom with right\", \"fa fa-arrows icon-move\", \"pan\"], [\"Zoom\", \"Zoom to rectangle\", \"fa fa-square-o icon-check-empty\", \"zoom\"], [\"\", \"\", \"\", \"\"], [\"Download\", \"Download plot\", \"fa fa-floppy-o icon-save\", \"download\"]];\n",
       "\n",
       "mpl.extensions = [\"eps\", \"jpeg\", \"pdf\", \"png\", \"ps\", \"raw\", \"svg\", \"tif\"];\n",
       "\n",
       "mpl.default_extension = \"png\";var comm_websocket_adapter = function(comm) {\n",
       "    // Create a \"websocket\"-like object which calls the given IPython comm\n",
       "    // object with the appropriate methods. Currently this is a non binary\n",
       "    // socket, so there is still some room for performance tuning.\n",
       "    var ws = {};\n",
       "\n",
       "    ws.close = function() {\n",
       "        comm.close()\n",
       "    };\n",
       "    ws.send = function(m) {\n",
       "        //console.log('sending', m);\n",
       "        comm.send(m);\n",
       "    };\n",
       "    // Register the callback with on_msg.\n",
       "    comm.on_msg(function(msg) {\n",
       "        //console.log('receiving', msg['content']['data'], msg);\n",
       "        // Pass the mpl event to the overridden (by mpl) onmessage function.\n",
       "        ws.onmessage(msg['content']['data'])\n",
       "    });\n",
       "    return ws;\n",
       "}\n",
       "\n",
       "mpl.mpl_figure_comm = function(comm, msg) {\n",
       "    // This is the function which gets called when the mpl process\n",
       "    // starts-up an IPython Comm through the \"matplotlib\" channel.\n",
       "\n",
       "    var id = msg.content.data.id;\n",
       "    // Get hold of the div created by the display call when the Comm\n",
       "    // socket was opened in Python.\n",
       "    var element = $(\"#\" + id);\n",
       "    var ws_proxy = comm_websocket_adapter(comm)\n",
       "\n",
       "    function ondownload(figure, format) {\n",
       "        window.open(figure.imageObj.src);\n",
       "    }\n",
       "\n",
       "    var fig = new mpl.figure(id, ws_proxy,\n",
       "                           ondownload,\n",
       "                           element.get(0));\n",
       "\n",
       "    // Call onopen now - mpl needs it, as it is assuming we've passed it a real\n",
       "    // web socket which is closed, not our websocket->open comm proxy.\n",
       "    ws_proxy.onopen();\n",
       "\n",
       "    fig.parent_element = element.get(0);\n",
       "    fig.cell_info = mpl.find_output_cell(\"<div id='\" + id + \"'></div>\");\n",
       "    if (!fig.cell_info) {\n",
       "        console.error(\"Failed to find cell for figure\", id, fig);\n",
       "        return;\n",
       "    }\n",
       "\n",
       "    var output_index = fig.cell_info[2]\n",
       "    var cell = fig.cell_info[0];\n",
       "\n",
       "};\n",
       "\n",
       "mpl.figure.prototype.handle_close = function(fig, msg) {\n",
       "    var width = fig.canvas.width/mpl.ratio\n",
       "    fig.root.unbind('remove')\n",
       "\n",
       "    // Update the output cell to use the data from the current canvas.\n",
       "    fig.push_to_output();\n",
       "    var dataURL = fig.canvas.toDataURL();\n",
       "    // Re-enable the keyboard manager in IPython - without this line, in FF,\n",
       "    // the notebook keyboard shortcuts fail.\n",
       "    IPython.keyboard_manager.enable()\n",
       "    $(fig.parent_element).html('<img src=\"' + dataURL + '\" width=\"' + width + '\">');\n",
       "    fig.close_ws(fig, msg);\n",
       "}\n",
       "\n",
       "mpl.figure.prototype.close_ws = function(fig, msg){\n",
       "    fig.send_message('closing', msg);\n",
       "    // fig.ws.close()\n",
       "}\n",
       "\n",
       "mpl.figure.prototype.push_to_output = function(remove_interactive) {\n",
       "    // Turn the data on the canvas into data in the output cell.\n",
       "    var width = this.canvas.width/mpl.ratio\n",
       "    var dataURL = this.canvas.toDataURL();\n",
       "    this.cell_info[1]['text/html'] = '<img src=\"' + dataURL + '\" width=\"' + width + '\">';\n",
       "}\n",
       "\n",
       "mpl.figure.prototype.updated_canvas_event = function() {\n",
       "    // Tell IPython that the notebook contents must change.\n",
       "    IPython.notebook.set_dirty(true);\n",
       "    this.send_message(\"ack\", {});\n",
       "    var fig = this;\n",
       "    // Wait a second, then push the new image to the DOM so\n",
       "    // that it is saved nicely (might be nice to debounce this).\n",
       "    setTimeout(function () { fig.push_to_output() }, 1000);\n",
       "}\n",
       "\n",
       "mpl.figure.prototype._init_toolbar = function() {\n",
       "    var fig = this;\n",
       "\n",
       "    var nav_element = $('<div/>');\n",
       "    nav_element.attr('style', 'width: 100%');\n",
       "    this.root.append(nav_element);\n",
       "\n",
       "    // Define a callback function for later on.\n",
       "    function toolbar_event(event) {\n",
       "        return fig.toolbar_button_onclick(event['data']);\n",
       "    }\n",
       "    function toolbar_mouse_event(event) {\n",
       "        return fig.toolbar_button_onmouseover(event['data']);\n",
       "    }\n",
       "\n",
       "    for(var toolbar_ind in mpl.toolbar_items){\n",
       "        var name = mpl.toolbar_items[toolbar_ind][0];\n",
       "        var tooltip = mpl.toolbar_items[toolbar_ind][1];\n",
       "        var image = mpl.toolbar_items[toolbar_ind][2];\n",
       "        var method_name = mpl.toolbar_items[toolbar_ind][3];\n",
       "\n",
       "        if (!name) { continue; };\n",
       "\n",
       "        var button = $('<button class=\"btn btn-default\" href=\"#\" title=\"' + name + '\"><i class=\"fa ' + image + ' fa-lg\"></i></button>');\n",
       "        button.click(method_name, toolbar_event);\n",
       "        button.mouseover(tooltip, toolbar_mouse_event);\n",
       "        nav_element.append(button);\n",
       "    }\n",
       "\n",
       "    // Add the status bar.\n",
       "    var status_bar = $('<span class=\"mpl-message\" style=\"text-align:right; float: right;\"/>');\n",
       "    nav_element.append(status_bar);\n",
       "    this.message = status_bar[0];\n",
       "\n",
       "    // Add the close button to the window.\n",
       "    var buttongrp = $('<div class=\"btn-group inline pull-right\"></div>');\n",
       "    var button = $('<button class=\"btn btn-mini btn-primary\" href=\"#\" title=\"Stop Interaction\"><i class=\"fa fa-power-off icon-remove icon-large\"></i></button>');\n",
       "    button.click(function (evt) { fig.handle_close(fig, {}); } );\n",
       "    button.mouseover('Stop Interaction', toolbar_mouse_event);\n",
       "    buttongrp.append(button);\n",
       "    var titlebar = this.root.find($('.ui-dialog-titlebar'));\n",
       "    titlebar.prepend(buttongrp);\n",
       "}\n",
       "\n",
       "mpl.figure.prototype._root_extra_style = function(el){\n",
       "    var fig = this\n",
       "    el.on(\"remove\", function(){\n",
       "\tfig.close_ws(fig, {});\n",
       "    });\n",
       "}\n",
       "\n",
       "mpl.figure.prototype._canvas_extra_style = function(el){\n",
       "    // this is important to make the div 'focusable\n",
       "    el.attr('tabindex', 0)\n",
       "    // reach out to IPython and tell the keyboard manager to turn it's self\n",
       "    // off when our div gets focus\n",
       "\n",
       "    // location in version 3\n",
       "    if (IPython.notebook.keyboard_manager) {\n",
       "        IPython.notebook.keyboard_manager.register_events(el);\n",
       "    }\n",
       "    else {\n",
       "        // location in version 2\n",
       "        IPython.keyboard_manager.register_events(el);\n",
       "    }\n",
       "\n",
       "}\n",
       "\n",
       "mpl.figure.prototype._key_event_extra = function(event, name) {\n",
       "    var manager = IPython.notebook.keyboard_manager;\n",
       "    if (!manager)\n",
       "        manager = IPython.keyboard_manager;\n",
       "\n",
       "    // Check for shift+enter\n",
       "    if (event.shiftKey && event.which == 13) {\n",
       "        this.canvas_div.blur();\n",
       "        event.shiftKey = false;\n",
       "        // Send a \"J\" for go to next cell\n",
       "        event.which = 74;\n",
       "        event.keyCode = 74;\n",
       "        manager.command_mode();\n",
       "        manager.handle_keydown(event);\n",
       "    }\n",
       "}\n",
       "\n",
       "mpl.figure.prototype.handle_save = function(fig, msg) {\n",
       "    fig.ondownload(fig, null);\n",
       "}\n",
       "\n",
       "\n",
       "mpl.find_output_cell = function(html_output) {\n",
       "    // Return the cell and output element which can be found *uniquely* in the notebook.\n",
       "    // Note - this is a bit hacky, but it is done because the \"notebook_saving.Notebook\"\n",
       "    // IPython event is triggered only after the cells have been serialised, which for\n",
       "    // our purposes (turning an active figure into a static one), is too late.\n",
       "    var cells = IPython.notebook.get_cells();\n",
       "    var ncells = cells.length;\n",
       "    for (var i=0; i<ncells; i++) {\n",
       "        var cell = cells[i];\n",
       "        if (cell.cell_type === 'code'){\n",
       "            for (var j=0; j<cell.output_area.outputs.length; j++) {\n",
       "                var data = cell.output_area.outputs[j];\n",
       "                if (data.data) {\n",
       "                    // IPython >= 3 moved mimebundle to data attribute of output\n",
       "                    data = data.data;\n",
       "                }\n",
       "                if (data['text/html'] == html_output) {\n",
       "                    return [cell, data, j];\n",
       "                }\n",
       "            }\n",
       "        }\n",
       "    }\n",
       "}\n",
       "\n",
       "// Register the function which deals with the matplotlib target/channel.\n",
       "// The kernel may be null if the page has been refreshed.\n",
       "if (IPython.notebook.kernel != null) {\n",
       "    IPython.notebook.kernel.comm_manager.register_target('matplotlib', mpl.mpl_figure_comm);\n",
       "}\n"
      ],
      "text/plain": [
       "<IPython.core.display.Javascript object>"
      ]
     },
     "metadata": {},
     "output_type": "display_data"
    },
    {
     "data": {
      "text/html": [
       "<img src=\"data:image/png;base64,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\" width=\"640\">"
      ],
      "text/plain": [
       "<IPython.core.display.HTML object>"
      ]
     },
     "metadata": {},
     "output_type": "display_data"
    }
   ],
   "source": [
    "#Check lag of z and errors\n",
    "#from matplotlib import pyplot\n",
    "#pyplot.plot(z)\n",
    "#pyplot.plot(zlag, color='red')\n",
    "#pyplot.show()\n",
    "#err=z-rho*zlag-(1-rho)*mu\n",
    "#pyplot.plot(z)\n",
    "#pyplot.plot(zlag, color='blue')\n",
    "#pyplot.plot(err, color='green')\n",
    "#pyplot.show()"
   ]
  },
  {
   "cell_type": "code",
   "execution_count": 39,
   "metadata": {},
   "outputs": [],
   "source": [
    "# Define function that generates values of a normal pdf for the errors\n",
    "def econ_norm_pdf(w, k, mu, sigma, alpha, rho):\n",
    "    err_mu = 0\n",
    "    z = np.log(w)-np.log(1-alpha)-alpha*np.log(k)\n",
    "    values = DataFrame(z)\n",
    "    zlag = values.shift(1)\n",
    "    errvals = z-rho*zlag-(1-rho)*mu\n",
    "    #pdf_vals = ((1/(sigma * np.sqrt(2 * np.pi)) * np.exp( - (errvals - mu)**2 / (2 * sigma**2))))\n",
    "    pdf_vals = ((1/(sigma * np.sqrt(2 * np.pi)) * np.exp( - (errvals - err_mu)**2 / (2 * sigma**2))))\n",
    "    \n",
    "    return pdf_vals"
   ]
  },
  {
   "cell_type": "code",
   "execution_count": 40,
   "metadata": {},
   "outputs": [
    {
     "name": "stdout",
     "output_type": "stream",
     "text": [
      "Log-likelihood:  0   -2279.559242\n",
      "dtype: float64\n"
     ]
    }
   ],
   "source": [
    "# Define log likelihood function for the normal distribution\n",
    "def log_lik_econnorm(w, k, mu, sigma, alpha, rho):\n",
    "    pdf_vals = econ_norm_pdf(w, k, mu, sigma, alpha, rho)\n",
    "    pdf_vals[pdf_vals < 1e-10] = 1e-10\n",
    "    ln_pdf_vals = np.log(pdf_vals)\n",
    "    log_lik_val = ln_pdf_vals.sum()\n",
    "    \n",
    "    return log_lik_val\n",
    "\n",
    "print('Log-likelihood: ', log_lik_econnorm(w, k, mu_0, sigma_0, alpha_0, rho_0))"
   ]
  },
  {
   "cell_type": "code",
   "execution_count": 41,
   "metadata": {},
   "outputs": [],
   "source": [
    "# Define criterion function for the model\n",
    "def crit_econ(params, *args):\n",
    "    mu, sigma, alpha, rho = params\n",
    "    w, k = args\n",
    "    log_lik_val = log_lik_econnorm(w, k, mu, sigma, alpha, rho)\n",
    "    neg_log_lik_val = -log_lik_val\n",
    "    \n",
    "    return neg_log_lik_val"
   ]
  },
  {
   "cell_type": "code",
   "execution_count": 42,
   "metadata": {},
   "outputs": [
    {
     "name": "stdout",
     "output_type": "stream",
     "text": [
      "mu_econ_mle= 1.5276914658501002  sigma_econ_mle= 0.09731227705608309 alpha_econ_mle 0.25107735497288997 rho_econ_mle 1.0\n"
     ]
    }
   ],
   "source": [
    "#Optimize using MLE using model pdf\n",
    "import scipy.optimize as opt\n",
    "\n",
    "mu_init = 2.1 #2.08 #2.0860565210150424 #0.1 #mu_0 #5  \n",
    "sigma_init = 1.1 #0.09 #0.09245361576935274 #1.1 #sigma_0  #2\n",
    "alpha_init = 0.5 #0.46 #0.46268465821278304 #0.5 #alpha_0 #0.5\n",
    "rho_init = 0.7 #0.71 #0.7167888847664479 # 0.5 #rho_0 #0.7\n",
    "params_init = np.array([mu_init, sigma_init, alpha_init, rho_init])\n",
    "mle_args = (w, k)\n",
    "results_uncstr = opt.minimize(crit_econ, params_init, args=(mle_args), method = 'TNC',\n",
    "                              bounds=((1e-10, None), (1e-10, 1), (1e-10, None), (-1, 1)), tol=1e-12)\n",
    "([mu_econ_mle, sigma_econ_mle, alpha_econ_mle, rho_econ_mle]) = results_uncstr.x\n",
    "print('mu_econ_mle=', mu_econ_mle, ' sigma_econ_mle=', sigma_econ_mle, 'alpha_econ_mle', alpha_econ_mle, 'rho_econ_mle', rho_econ_mle)"
   ]
  },
  {
   "cell_type": "code",
   "execution_count": 43,
   "metadata": {},
   "outputs": [
    {
     "name": "stdout",
     "output_type": "stream",
     "text": [
      "Log-likelihood:  0    90.178039\n",
      "dtype: float64\n"
     ]
    }
   ],
   "source": [
    "#Calculate Log lik of MLE estimates\n",
    "print('Log-likelihood: ', log_lik_econnorm(w, k, mu_econ_mle, sigma_econ_mle, alpha_econ_mle, rho_econ_mle))"
   ]
  },
  {
   "cell_type": "code",
   "execution_count": 44,
   "metadata": {},
   "outputs": [
    {
     "name": "stdout",
     "output_type": "stream",
     "text": [
      "mu_econ_mle= 1.505993336272044  sigma_econ_mle= 0.09731249475998308 alpha_econ_mle 0.2510640054962013 rho_econ_mle 1.0\n",
      "Log-likelihood:  0    90.178039\n",
      "dtype: float64\n",
      "Inverse Hessian matrix\n"
     ]
    },
    {
     "data": {
      "text/plain": [
       "array([[ 1.00363511e+00, -7.85329969e-03, -2.41761615e-01,\n",
       "         4.23733050e-02],\n",
       "       [-7.85329969e-03,  2.76362499e-02,  8.30237447e-01,\n",
       "        -1.64888558e-01],\n",
       "       [-2.41761615e-01,  8.30237447e-01,  2.50061903e+01,\n",
       "        -4.94250936e+00],\n",
       "       [ 4.23733050e-02, -1.64888558e-01, -4.94250936e+00,\n",
       "         1.00000000e+00]])"
      ]
     },
     "execution_count": 44,
     "metadata": {},
     "output_type": "execute_result"
    }
   ],
   "source": [
    "#For the Hessian inverse, run optimizer with L-BFGS-B\n",
    "mu_init = 1.47 #0.021 #mu_0 #5  \n",
    "sigma_init = 0.99 #0.09 #sigma_0  #2\n",
    "alpha_init = 0.81 #0.24 #alpha_0 #0.5\n",
    "rho_init = 0.99 #rho_0 #0.7\n",
    "params_init = np.array([mu_init, sigma_init, alpha_init, rho_init])\n",
    "mle_args = (w, k)\n",
    "results_bfgs = opt.minimize(crit_econ, params_init, args=(mle_args), method = 'L-BFGS-B',\n",
    "                              bounds=((1e-10, None), (1e-10, 1), (1e-10, None), (-1, 1)), tol=1e-12)\n",
    "([mu_econ_mle, sigma_econ_mle, alpha_econ_mle, rho_econ_mle]) = results_bfgs.x\n",
    "print('mu_econ_mle=', mu_econ_mle, ' sigma_econ_mle=', sigma_econ_mle, 'alpha_econ_mle', alpha_econ_mle, 'rho_econ_mle', rho_econ_mle)\n",
    "print('Log-likelihood: ', log_lik_econnorm(w, k, mu_econ_mle, sigma_econ_mle, alpha_econ_mle, rho_econ_mle))\n",
    "\n",
    "print('Inverse Hessian matrix')\n",
    "results_bfgs.hess_inv.todense()"
   ]
  },
  {
   "cell_type": "markdown",
   "metadata": {},
   "source": [
    "# b) Use the data and equations (4) and (5) to estimate the four parameters by maximum likelihood."
   ]
  },
  {
   "cell_type": "code",
   "execution_count": 45,
   "metadata": {},
   "outputs": [],
   "source": [
    "# Define function that generates values of a normal pdf for the new model\n",
    "def econ_norm2_pdf(r, k, mu, sigma, alpha, rho):\n",
    "    err_mu = 0\n",
    "    z = np.log(r)-np.log(alpha)-(alpha-1)*np.log(k)\n",
    "    values = DataFrame(z)\n",
    "    zlag = values.shift(1)\n",
    "    errvals = z-rho*zlag-(1-rho)*mu\n",
    "    #pdf_vals = ((1/(sigma * np.sqrt(2 * np.pi)) * np.exp( - (errvals - mu)**2 / (2 * sigma**2))))\n",
    "    pdf_vals = ((1/(sigma * np.sqrt(2 * np.pi)) * np.exp( - (errvals - err_mu)**2 / (2 * sigma**2))))\n",
    "    \n",
    "    return pdf_vals"
   ]
  },
  {
   "cell_type": "code",
   "execution_count": 46,
   "metadata": {},
   "outputs": [
    {
     "name": "stdout",
     "output_type": "stream",
     "text": [
      "Log-likelihood:  0   -2279.559242\n",
      "dtype: float64\n"
     ]
    }
   ],
   "source": [
    "# Define log likelihood function for the normal distribution for the new model\n",
    "def log_lik_econnorm2(r, k, mu, sigma, alpha, rho):\n",
    "    pdf_vals = econ_norm2_pdf(r, k, mu, sigma, alpha, rho)\n",
    "    pdf_vals[pdf_vals < 1e-10] = 1e-10\n",
    "    ln_pdf_vals = np.log(pdf_vals)\n",
    "    log_lik_val = ln_pdf_vals.sum()\n",
    "    \n",
    "    return log_lik_val\n",
    "\n",
    "print('Log-likelihood: ', log_lik_econnorm2(r, k, mu_0, sigma_0, alpha_0, rho_0))"
   ]
  },
  {
   "cell_type": "code",
   "execution_count": 47,
   "metadata": {},
   "outputs": [],
   "source": [
    "# Define criterion function for the new model\n",
    "def crit_econ2(params, *args):\n",
    "    mu, sigma, alpha, rho = params\n",
    "    r, k = args\n",
    "    log_lik_val = log_lik_econnorm2(r, k, mu, sigma, alpha, rho)\n",
    "    neg_log_lik_val = -log_lik_val\n",
    "    \n",
    "    return neg_log_lik_val"
   ]
  },
  {
   "cell_type": "code",
   "execution_count": 48,
   "metadata": {},
   "outputs": [
    {
     "name": "stdout",
     "output_type": "stream",
     "text": [
      "mu_econ_mle= 1.6216979043189428  sigma_econ_mle= 0.09731315189568551 alpha_econ_mle 0.2523287365529045 rho_econ_mle 1.0\n"
     ]
    }
   ],
   "source": [
    "#Optimize using MLE\n",
    "import scipy.optimize as opt\n",
    "\n",
    "mu_init = 1.5 #2.1 #2.08 #2.0860565210150424 #0.1 #mu_0 #5  \n",
    "sigma_init = 1.1 #0.09 #0.09245361576935274 #1.1 #sigma_0  #2\n",
    "alpha_init = 0.5 #0.46 #0.46268465821278304 #0.5 #alpha_0 #0.5\n",
    "rho_init = 0.7 #0.71 #0.7167888847664479 # 0.5 #rho_0 #0.7\n",
    "params_init = np.array([mu_init, sigma_init, alpha_init, rho_init])\n",
    "mle_args = (r, k)\n",
    "results_uncstr2 = opt.minimize(crit_econ2, params_init, args=(mle_args), method = 'TNC',\n",
    "                              bounds=((1e-10, None), (1e-10, 1), (1e-10, None), (-1, 1)), tol=1e-12)\n",
    "([mu_econ_mle, sigma_econ_mle, alpha_econ_mle, rho_econ_mle]) = results_uncstr2.x\n",
    "print('mu_econ_mle=', mu_econ_mle, ' sigma_econ_mle=', sigma_econ_mle, 'alpha_econ_mle', alpha_econ_mle, 'rho_econ_mle', rho_econ_mle)"
   ]
  },
  {
   "cell_type": "code",
   "execution_count": 49,
   "metadata": {},
   "outputs": [
    {
     "name": "stdout",
     "output_type": "stream",
     "text": [
      "Log-likelihood:  0    90.177954\n",
      "dtype: float64\n"
     ]
    }
   ],
   "source": [
    "#Calculate Log lik of new MLE estimates\n",
    "print('Log-likelihood: ', log_lik_econnorm2(r, k, mu_econ_mle, sigma_econ_mle, alpha_econ_mle, rho_econ_mle))"
   ]
  },
  {
   "cell_type": "code",
   "execution_count": 50,
   "metadata": {},
   "outputs": [
    {
     "name": "stdout",
     "output_type": "stream",
     "text": [
      "mu_econ_mle= 1.4890042704053374  sigma_econ_mle= 0.09731249755680894 alpha_econ_mle 0.25106426848613606 rho_econ_mle 1.0\n",
      "Log-likelihood:  0    90.178039\n",
      "dtype: float64\n",
      "Inverse Hessian matrix\n"
     ]
    },
    {
     "data": {
      "text/plain": [
       "array([[ 1.00032654e+00,  7.72065908e-05,  6.07747113e-04,\n",
       "        -1.91455334e-04],\n",
       "       [ 7.72065908e-05,  1.66917659e-04, -2.56878957e-03,\n",
       "         1.66123977e-04],\n",
       "       [ 6.07747113e-04, -2.56878957e-03,  6.54710690e-02,\n",
       "        -3.66064676e-03],\n",
       "       [-1.91455334e-04,  1.66123977e-04, -3.66064676e-03,\n",
       "         2.41598860e-04]])"
      ]
     },
     "execution_count": 50,
     "metadata": {},
     "output_type": "execute_result"
    }
   ],
   "source": [
    "#For the Hessian inverse, run optimizer with L-BFGS-B\n",
    "mu_init = 1.47 #0.021 #mu_0 #5  \n",
    "sigma_init = 0.99 #0.09 #sigma_0  #2\n",
    "alpha_init = 0.81 #0.24 #alpha_0 #0.5\n",
    "rho_init = 0.99 #rho_0 #0.7\n",
    "params_init = np.array([mu_init, sigma_init, alpha_init, rho_init])\n",
    "mle_args = (r, k)\n",
    "results_bfgs2 = opt.minimize(crit_econ2, params_init, args=(mle_args), method = 'L-BFGS-B',\n",
    "                              bounds=((1e-10, None), (1e-10, 1), (1e-10, None), (-1, 1)), tol=1e-12)\n",
    "([mu_econ_mle, sigma_econ_mle, alpha_econ_mle, rho_econ_mle]) = results_bfgs2.x\n",
    "print('mu_econ_mle=', mu_econ_mle, ' sigma_econ_mle=', sigma_econ_mle, 'alpha_econ_mle', alpha_econ_mle, 'rho_econ_mle', rho_econ_mle)\n",
    "print('Log-likelihood: ', log_lik_econnorm2(r, k, mu_econ_mle, sigma_econ_mle, alpha_econ_mle, rho_econ_mle))\n",
    "\n",
    "print('Inverse Hessian matrix')\n",
    "results_bfgs2.hess_inv.todense()"
   ]
  },
  {
   "cell_type": "markdown",
   "metadata": {},
   "source": [
    "# c) According to your estimates from part (a), if investment/savings in the current period is kt = 7.500.000 and the productivity shock in the previous period was zt-1 = 10, what is the probability that the interest rate this period will be greater than rt = 1."
   ]
  },
  {
   "cell_type": "code",
   "execution_count": 51,
   "metadata": {},
   "outputs": [
    {
     "name": "stdout",
     "output_type": "stream",
     "text": [
      "Statistics\n",
      "Mean: 7472544.557306592\n",
      "Median: 7135044.59106941\n",
      "Maximum: [13212559.75196111]\n",
      "Minimum: [5123678.33190049]\n",
      "Stdev: 1678258.2803010112\n"
     ]
    }
   ],
   "source": [
    "#Statistics for checking\n",
    "mu = np.mean(k)\n",
    "med = np.median(k)\n",
    "maxi = max(k)\n",
    "mini = min(k)\n",
    "sigma = np.std(k)\n",
    "\n",
    "# Reporting\n",
    "print (\"Statistics\")\n",
    "print(\"Mean:\", mu)\n",
    "print(\"Median:\", med)\n",
    "print(\"Maximum:\", maxi)\n",
    "print(\"Minimum:\", mini)\n",
    "print(\"Stdev:\", sigma)"
   ]
  },
  {
   "cell_type": "code",
   "execution_count": 52,
   "metadata": {},
   "outputs": [
    {
     "name": "stdout",
     "output_type": "stream",
     "text": [
      "z_calc: 13.238008696465732\n",
      "err_calc: 3.238008696465732\n",
      "Probability that the interest rate this period will be greater than 1: 0.0\n"
     ]
    }
   ],
   "source": [
    "#Calculate probability using the cdf and estimated parameters for the error\n",
    "from scipy.stats import norm\n",
    "r_h0 = 1\n",
    "k_h0 = 7500000\n",
    "zlag_h0 = 10\n",
    "z_calc = np.log(r_h0)-np.log(alpha_econ_mle)-(alpha_econ_mle-1)*np.log(k_h0)\n",
    "mu_z = rho_econ_mle*zlag_h0-(1-rho_econ_mle)*mu_econ_mle\n",
    "err_calc = z_calc-rho_econ_mle*zlag_h0-(1-rho_econ_mle)*mu_econ_mle\n",
    "cdf1 = norm.cdf(err_calc, 0, sigma_econ_mle)\n",
    "prob_econ1 = 1-cdf1\n",
    "print('z_calc:', z_calc)\n",
    "print('err_calc:', err_calc)\n",
    "#print('Prob:', prob_econ1)\n",
    "print('Probability that the interest rate this period will be greater than 1:', prob_econ1)\n",
    "\n",
    "\n",
    "\n",
    "#econ2_cdf = norm.cdf(err_calc)\n",
    "#prob_econ2 = 1-econ2_cdf\n",
    "#print('Prob:', prob_econ2)"
   ]
  }
 ],
 "metadata": {
  "kernelspec": {
   "display_name": "Python 3",
   "language": "python",
   "name": "python3"
  },
  "language_info": {
   "codemirror_mode": {
    "name": "ipython",
    "version": 3
   },
   "file_extension": ".py",
   "mimetype": "text/x-python",
   "name": "python",
   "nbconvert_exporter": "python",
   "pygments_lexer": "ipython3",
   "version": "3.7.4"
  }
 },
 "nbformat": 4,
 "nbformat_minor": 2
}
