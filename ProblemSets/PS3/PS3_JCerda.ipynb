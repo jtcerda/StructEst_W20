{
 "cells": [
  {
   "cell_type": "markdown",
   "metadata": {},
   "source": [
    "# Structural Estimation \n",
    "# PS3\n",
    "# Jose Cerda"
   ]
  },
  {
   "cell_type": "markdown",
   "metadata": {},
   "source": [
    "# 1. Matching the U.S. income distribution by GMM"
   ]
  },
  {
   "cell_type": "markdown",
   "metadata": {},
   "source": [
    "# a) Create the moments in Table 1"
   ]
  },
  {
   "cell_type": "code",
   "execution_count": 254,
   "metadata": {},
   "outputs": [],
   "source": [
    "# Import the necessary libraries\n",
    "import numpy.linalg as lin\n",
    "import scipy.integrate as intgr\n",
    "import numpy as np\n",
    "import scipy.stats as sts\n",
    "import requests\n",
    "import statistics\n",
    "import matplotlib.pyplot as plt\n",
    "import pandas as pd\n",
    "import scipy.special as spc\n",
    "import os\n",
    "import random\n",
    "import scipy.optimize as opt"
   ]
  },
  {
   "cell_type": "code",
   "execution_count": 255,
   "metadata": {},
   "outputs": [],
   "source": [
    "# Import the data\n",
    "hh_inc = np.loadtxt('hh_inc_synth.txt')\n",
    "random.seed(100)"
   ]
  },
  {
   "cell_type": "code",
   "execution_count": 256,
   "metadata": {},
   "outputs": [
    {
     "name": "stdout",
     "output_type": "stream",
     "text": [
      "Statistics of House Hold Income (Dollars)\n",
      "N: 121085\n",
      "Mean: 67269.598228936\n",
      "Median: 50090.02535461736\n",
      "Maximum: 349978.7695007046\n",
      "Minimum: 1.0830783075610473\n",
      "Stdev: 60632.54140840025\n"
     ]
    }
   ],
   "source": [
    "#Statistics about HH income that may be useful\n",
    "n = len(hh_inc)\n",
    "mu = statistics.mean(hh_inc)\n",
    "med = statistics.median(hh_inc)\n",
    "maxi = max(hh_inc)\n",
    "mini = min(hh_inc)\n",
    "sigma = statistics.stdev(hh_inc)\n",
    "  \n",
    "# Report\n",
    "print (\"Statistics of House Hold Income (Dollars)\")\n",
    "print(\"N:\", n)\n",
    "print(\"Mean:\", mu)\n",
    "print(\"Median:\", med)\n",
    "print(\"Maximum:\", maxi)\n",
    "print(\"Minimum:\", mini)\n",
    "print(\"Stdev:\", sigma)"
   ]
  },
  {
   "cell_type": "code",
   "execution_count": 257,
   "metadata": {
    "scrolled": true
   },
   "outputs": [],
   "source": [
    "#Create the first 40 bins\n",
    "hist1, bin_edges1 = np.histogram(hh_inc, bins=40, range=(0, 200000))"
   ]
  },
  {
   "cell_type": "code",
   "execution_count": 258,
   "metadata": {},
   "outputs": [],
   "source": [
    "#Create the other bins\n",
    "hist2, bin_edges2 = np.histogram(hh_inc, bins=(200000, 250000, 350000), range=(200000, 350000))"
   ]
  },
  {
   "cell_type": "code",
   "execution_count": 259,
   "metadata": {
    "scrolled": true
   },
   "outputs": [
    {
     "name": "stdout",
     "output_type": "stream",
     "text": [
      "Histogram data [4261 4972 7127 6882 7095 6591 6667 6136 5795 4945 5170 4250 4432 3836\n",
      " 3606 3452 3036 2566 2594 2251 2527 1771 1723 1569 1540 1258 1211  918\n",
      " 1031  893 1166  740  697  610  617  530  460  363  380  312 2297 2808]\n",
      "Bin edges [     0.   5000.  10000.  15000.  20000.  25000.  30000.  35000.  40000.\n",
      "  45000.  50000.  55000.  60000.  65000.  70000.  75000.  80000.  85000.\n",
      "  90000.  95000. 100000. 105000. 110000. 115000. 120000. 125000. 130000.\n",
      " 135000. 140000. 145000. 150000. 155000. 160000. 165000. 170000. 175000.\n",
      " 180000. 185000. 190000. 195000. 200000. 200000. 250000. 350000.]\n"
     ]
    }
   ],
   "source": [
    "#Merge two arrays of hist data and edges\n",
    "hist_dt = np.append(hist1, hist2)\n",
    "bin_edges_dt = np.append(bin_edges1, bin_edges2)\n",
    "print('Histogram data', hist_dt)\n",
    "print('Bin edges', bin_edges_dt)"
   ]
  },
  {
   "cell_type": "markdown",
   "metadata": {},
   "source": [
    "# b) Plot the histogram of the data and the height being the percent of observations in that bin and not the count frequency. List the dollar amounts on the x-axis as thousands of dollars"
   ]
  },
  {
   "cell_type": "code",
   "execution_count": 260,
   "metadata": {},
   "outputs": [],
   "source": [
    "#Put variables in thousands\n",
    "hh_inc_th = hh_inc/1000\n",
    "bin_edges_dt_th = bin_edges_dt/1000"
   ]
  },
  {
   "cell_type": "code",
   "execution_count": 261,
   "metadata": {},
   "outputs": [
    {
     "data": {
      "text/plain": [
       "dict_keys([1.651732254201594e-06, 8.258661271007969e-08, 1.6517322542015938e-07])"
      ]
     },
     "execution_count": 261,
     "metadata": {},
     "output_type": "execute_result"
    }
   ],
   "source": [
    "#Weights\n",
    "from collections import Counter\n",
    "\n",
    "weights = [0]*len(hh_inc_th)\n",
    "for w in range(0,len(weights)):\n",
    "    #now write so it gets corresponding widths\n",
    "        if hh_inc_th[w] <= 199.999:\n",
    "            weights[w] = 1/(len(hh_inc_th) * 5)\n",
    "        if hh_inc_th[w] <= 249.999 and hh_inc_th[w] >= 200 :\n",
    "            weights[w] = 1/(len(hh_inc_th) * 50)\n",
    "        if hh_inc_th[w] >= 250:\n",
    "            weights[w] = 1/(len(hh_inc_th) * 100)\n",
    "            \n",
    "#check that weights calculated correctly by identifying 3 unique weights\n",
    "Counter(weights).keys()"
   ]
  },
  {
   "cell_type": "code",
   "execution_count": 262,
   "metadata": {},
   "outputs": [
    {
     "data": {
      "text/plain": [
       "Text(0, 0.5, 'Density')"
      ]
     },
     "execution_count": 262,
     "metadata": {},
     "output_type": "execute_result"
    },
    {
     "data": {
      "image/png": "[encoded data removed]",
      "text/plain": [
       "<Figure size 432x288 with 1 Axes>"
      ]
     },
     "metadata": {
      "needs_background": "light"
     },
     "output_type": "display_data"
    }
   ],
   "source": [
    "#Plot the histogram\n",
    "hist_vals = plt.hist(hh_inc_th, bin_edges_dt_th, weights = weights, edgecolor = 'black')\n",
    "plt.xlabel('Household income in thousands of US Dollars')\n",
    "plt.ylabel('Density')"
   ]
  },
  {
   "cell_type": "markdown",
   "metadata": {},
   "source": [
    "# c) Using GMM, fit the lognormal LN distribution defined in the MLE notebook to the distribution of household income data using the moments from the data file"
   ]
  },
  {
   "cell_type": "code",
   "execution_count": 263,
   "metadata": {},
   "outputs": [],
   "source": [
    "# Define LN dist\n",
    "def ln_norm_pdf(xvals, mu, sigma):\n",
    "    pdf_vals = ((1/(xvals * sigma * np.sqrt(2 * np.pi))) * np.exp( - (np.log(xvals) - mu)**2 / (2 * sigma**2)))\n",
    "    pdf_vals[pdf_vals < 1e-10] = 1e-10\n",
    "    return pdf_vals"
   ]
  },
  {
   "cell_type": "code",
   "execution_count": 264,
   "metadata": {},
   "outputs": [],
   "source": [
    "#Define data moments\n",
    "def data_moments(xvals):\n",
    "    mom_data = hist_dt/n\n",
    "    \n",
    "    return mom_data    "
   ]
  },
  {
   "cell_type": "code",
   "execution_count": 265,
   "metadata": {},
   "outputs": [],
   "source": [
    "#Define the model moments \n",
    "def ln_moments(mu, sigma, n, bins):\n",
    "    x = np.linspace(min(bins), max(bins), max(bins)+1)\n",
    "    pdf_calc = ln_norm_pdf(x[1:], mu, sigma)\n",
    "    mom_model = []\n",
    "    for i in range(len(bins)-1):\n",
    "        y = pdf_calc[bins[i] : bins[i+1]]\n",
    "        mom_model.append(np.sum(y))\n",
    "    mom_model = np.array(mom_model)\n",
    "    \n",
    "    return mom_model"
   ]
  },
  {
   "cell_type": "code",
   "execution_count": 266,
   "metadata": {},
   "outputs": [],
   "source": [
    "#Define the error vector \n",
    "def err_vec_ln(xvals, mu, sigma, n, bins, simple):\n",
    "    moms_data = data_moments(xvals)\n",
    "    moms_model = ln_moments(mu, sigma, n, bins)\n",
    "    if simple:\n",
    "        err_vec = moms_model - moms_data\n",
    "    else:\n",
    "        err_vec = (moms_model - moms_data) / moms_data\n",
    "    \n",
    "    return err_vec"
   ]
  },
  {
   "cell_type": "code",
   "execution_count": 267,
   "metadata": {},
   "outputs": [],
   "source": [
    "#Define criterion function\n",
    "def criterion_ln(params, *args):\n",
    "    mu, sigma = params\n",
    "    xvals, W, n, bins = args\n",
    "    err = err_vec_ln(xvals, mu, sigma, n, bins, simple=True)\n",
    "    crit_val = err.T @ W @ err\n",
    "    \n",
    "    return crit_val"
   ]
  },
  {
   "cell_type": "code",
   "execution_count": 268,
   "metadata": {},
   "outputs": [
    {
     "name": "stdout",
     "output_type": "stream",
     "text": [
      "mu_init= 3.780552299347908 sigma_init 1.0610439509283802\n",
      "mu_GMM_ln= 3.9585128914883976  sigma_GMM_ln= 1.027996598600394\n"
     ]
    },
    {
     "data": {
      "text/plain": [
       "     fun: 121083.00001876864\n",
       "     jac: array([0.00145519, 0.00145519])\n",
       " message: 'Converged (|f_n-f_(n-1)| ~= 0)'\n",
       "    nfev: 14\n",
       "     nit: 2\n",
       "  status: 1\n",
       " success: True\n",
       "       x: array([2.99999295e+00, 2.00000000e+04])"
      ]
     },
     "execution_count": 268,
     "metadata": {},
     "output_type": "execute_result"
    }
   ],
   "source": [
    "#Estimate through GMM\n",
    "#Initial guesses\n",
    "bins_th = [i for i in range(0, 200+1, 5)] + [250, 350]\n",
    "mu_init = np.mean(np.log(hh_inc_th))\n",
    "sigma_init = np.std(np.log(hh_inc_th))\n",
    "params_init = np.array([mu_init, sigma_init])\n",
    "\n",
    "print('mu_init=', mu_init, 'sigma_init', sigma_init)\n",
    "\n",
    "#Weighting matrix\n",
    "W_hat = np.eye(42) \n",
    "row,col = np.diag_indices(W_hat.shape[0])\n",
    "W_hat[row,col] =  data_moments(hh_inc_th)\n",
    "#W_hat[row,col] =  data_moments(hh_inc)\n",
    "gmm_args = (hh_inc_th, W_hat, n, bins_th)\n",
    "\n",
    "#Optimize L-BFGS-B\n",
    "results_ln = opt.minimize(criterion_ln, params_init, args=(gmm_args), tol=1e-14, method='TNC', bounds=((1e-10, None), (1e-10, None)))\n",
    "mu_GMM_ln, sigma_GMM_ln = results_ln.x\n",
    "print('mu_GMM_ln=', mu_GMM_ln, ' sigma_GMM_ln=', sig_GMM_ln)\n",
    "results"
   ]
  },
  {
   "cell_type": "code",
   "execution_count": 270,
   "metadata": {},
   "outputs": [
    {
     "name": "stdout",
     "output_type": "stream",
     "text": [
      "crit_val_ln= 3.134397343349639e-05\n"
     ]
    }
   ],
   "source": [
    "#Criterion function value\n",
    "print(\"crit_val_ln=\", results_ln.fun)"
   ]
  },
  {
   "cell_type": "code",
   "execution_count": 271,
   "metadata": {},
   "outputs": [
    {
     "data": {
      "text/plain": [
       "<matplotlib.legend.Legend at 0x121956fef08>"
      ]
     },
     "execution_count": 271,
     "metadata": {},
     "output_type": "execute_result"
    },
    {
     "data": {
      "image/png": "[encoded data removed]",
      "text/plain": [
       "<Figure size 432x288 with 1 Axes>"
      ]
     },
     "metadata": {
      "needs_background": "light"
     },
     "output_type": "display_data"
    }
   ],
   "source": [
    "#Histogram and LN\n",
    "hist_vals = plt.hist(hh_inc_th, bins_th, weights = weights, edgecolor = 'black')\n",
    "plt.xlabel('Household income in thousands of US Dollars')\n",
    "plt.ylabel('Density')\n",
    "\n",
    "mid_vals = []\n",
    "i = 0\n",
    "for i in range(42):\n",
    "    j = (bins_th[i+1]/2 - bins_th[i]/2 + bins_th[i])\n",
    "    mid_vals.append(j)\n",
    "    i+=1\n",
    "    \n",
    "mid_vals = np.asarray(mid_vals)\n",
    "hist_ln = ln_norm_pdf(mid_vals, mu_GMM_ln, sigma_GMM_ln)\n",
    "plt.plot(mid_vals, hist_ln, color = 'r', label = '$\\mu =3.95 $, $\\sigma =1.02 $')\n",
    "plt.legend(loc='upper left')\n"
   ]
  },
  {
   "cell_type": "markdown",
   "metadata": {},
   "source": [
    "# d) Using GMM, fit the gamma GA to the distribution of household income data using the moments from the data file."
   ]
  },
  {
   "cell_type": "code",
   "execution_count": 272,
   "metadata": {},
   "outputs": [],
   "source": [
    "#Define a GA pdf\n",
    "def gamma_ga_pdf(xvals, alpha, beta): \n",
    "    gamma_arg = spc.gamma(alpha)\n",
    "    pdf_vals = (1/((beta**alpha) *gamma_arg))*(xvals**(alpha-1))*(np.exp(-(xvals/beta)))\n",
    "    pdf_vals[pdf_vals < 1e-10] = 1e-10\n",
    "    return pdf_vals"
   ]
  },
  {
   "cell_type": "code",
   "execution_count": 273,
   "metadata": {},
   "outputs": [],
   "source": [
    "#Define data moments\n",
    "def data_moments(xvals):\n",
    "    mom_data = hist_dt/n\n",
    "    \n",
    "    return mom_data"
   ]
  },
  {
   "cell_type": "code",
   "execution_count": 274,
   "metadata": {},
   "outputs": [],
   "source": [
    "#Define the model moments \n",
    "def ga_moments(alpha, beta, n, bins):\n",
    "    x = np.linspace(min(bins), max(bins), max(bins)+1)\n",
    "    pdf_calc = gamma_ga_pdf(x[1:], alpha, beta)\n",
    "    mom_model = []\n",
    "    for i in range(len(bins)-1):\n",
    "        y = pdf_calc[bins[i] : bins[i+1]]\n",
    "        mom_model.append(np.sum(y))\n",
    "    mom_model = np.array(mom_model)\n",
    "    \n",
    "    return mom_model"
   ]
  },
  {
   "cell_type": "code",
   "execution_count": 275,
   "metadata": {},
   "outputs": [],
   "source": [
    "#Define the error vector \n",
    "def err_vec_ga(xvals, alpha, beta, n, bins, simple):\n",
    "    moms_data = data_moments(xvals)\n",
    "    moms_model = ga_moments(alpha, beta, n, bins)\n",
    "    if simple:\n",
    "        err_vec = moms_model - moms_data\n",
    "    else:\n",
    "        err_vec = (moms_model - moms_data) / moms_data\n",
    "    \n",
    "    return err_vec"
   ]
  },
  {
   "cell_type": "code",
   "execution_count": 276,
   "metadata": {},
   "outputs": [],
   "source": [
    "#Define criterion function\n",
    "def criterion_ga(params, *args):\n",
    "    alpha, beta = params\n",
    "    xvals, W, n, bins = args\n",
    "    err = err_vec_ga(xvals, alpha, beta, n, bins, simple=False)\n",
    "    crit_val = err.T @ W @ err\n",
    "    \n",
    "    return crit_val"
   ]
  },
  {
   "cell_type": "code",
   "execution_count": 277,
   "metadata": {},
   "outputs": [
    {
     "name": "stdout",
     "output_type": "stream",
     "text": [
      "alpha_init 3 beta_init 20000\n",
      "alpha_GMM_ga= 0.3925867045355931  beta_GMM_ga= 1588.4832367807576\n"
     ]
    },
    {
     "data": {
      "text/plain": [
       "     fun: 121083.00001876864\n",
       "     jac: array([0.00145519, 0.00145519])\n",
       " message: 'Converged (|f_n-f_(n-1)| ~= 0)'\n",
       "    nfev: 14\n",
       "     nit: 2\n",
       "  status: 1\n",
       " success: True\n",
       "       x: array([2.99999295e+00, 2.00000000e+04])"
      ]
     },
     "execution_count": 277,
     "metadata": {},
     "output_type": "execute_result"
    }
   ],
   "source": [
    "#Estimate through GMM\n",
    "#Initial guesses\n",
    "bins_th = [i for i in range(0, 200+1, 5)] + [250, 350]\n",
    "alpha_init = 3 \n",
    "beta_init = 20000\n",
    "params_init = np.array([alpha_init, beta_init])\n",
    "print('alpha_init', alpha_init, 'beta_init', beta_init)\n",
    "\n",
    "#Weighting matrix\n",
    "W_hat = np.eye(42) \n",
    "row,col = np.diag_indices(W_hat.shape[0])\n",
    "W_hat[row,col] =  data_moments(hh_inc_th)\n",
    "gmm_args = (hh_inc_th, W_hat, n, bins_th)\n",
    "\n",
    "#Optimize L-BFGS-B\n",
    "results_ga = opt.minimize(criterion_ga, params_init, args=(gmm_args), tol=1e-14, method='TNC', bounds=((1e-10, None), (1e-10, None)))\n",
    "alpha_GMM_ga, beta_GMM_ga = results_ga.x\n",
    "print('alpha_GMM_ga=', alpha_GMM_ga, ' beta_GMM_ga=', beta_GMM_ga)\n",
    "results"
   ]
  },
  {
   "cell_type": "code",
   "execution_count": 278,
   "metadata": {},
   "outputs": [
    {
     "name": "stdout",
     "output_type": "stream",
     "text": [
      "crit_ga 0.5169734451348891\n",
      "crit_val_ga= 0.5169734451348891\n"
     ]
    }
   ],
   "source": [
    "#Criterion function value\n",
    "print(\"crit_val_ga=\", results_ga.fun)"
   ]
  },
  {
   "cell_type": "code",
   "execution_count": 279,
   "metadata": {
    "scrolled": false
   },
   "outputs": [
    {
     "data": {
      "text/plain": [
       "<matplotlib.legend.Legend at 0x1219580e6c8>"
      ]
     },
     "execution_count": 279,
     "metadata": {},
     "output_type": "execute_result"
    },
    {
     "data": {
      "image/png": "[encoded data removed]",
      "text/plain": [
       "<Figure size 432x288 with 1 Axes>"
      ]
     },
     "metadata": {
      "needs_background": "light"
     },
     "output_type": "display_data"
    }
   ],
   "source": [
    "#Histogram and GA\n",
    "hist_vals = plt.hist(hh_inc_th, bins_th, weights = weights, edgecolor = 'black')\n",
    "plt.xlabel('Household income in thousands of US Dollars')\n",
    "plt.ylabel('Density')\n",
    "\n",
    "#GA\n",
    "hist_ga = gamma_ga_pdf(mid_vals, alpha_GMM_ga, beta_GMM_ga)\n",
    "plt.plot(mid_vals, hist_ga, color = 'g', label = 'alpha =0.39, beta =1588')\n",
    "plt.legend(loc='upper left')"
   ]
  },
  {
   "cell_type": "markdown",
   "metadata": {},
   "source": [
    "# e) Plot the histogram from part (a) overlayed with the line representing the implied histogram from your estimated lognormal (LN) distribution from part (b) and the line representing the implied histogram from your estimated gamma (GA) distribution from part (c)."
   ]
  },
  {
   "cell_type": "code",
   "execution_count": 280,
   "metadata": {},
   "outputs": [
    {
     "data": {
      "text/plain": [
       "<matplotlib.legend.Legend at 0x12192b15bc8>"
      ]
     },
     "execution_count": 280,
     "metadata": {},
     "output_type": "execute_result"
    },
    {
     "data": {
      "image/png": "[encoded data removed]",
      "text/plain": [
       "<Figure size 432x288 with 1 Axes>"
      ]
     },
     "metadata": {
      "needs_background": "light"
     },
     "output_type": "display_data"
    }
   ],
   "source": [
    "#Histogram and GA\n",
    "hist_vals = plt.hist(hh_inc_th, bins_th, weights = weights, edgecolor = 'black')\n",
    "plt.xlabel('Household income in thousands of US Dollars')\n",
    "plt.ylabel('Density')\n",
    "\n",
    "#LN\n",
    "hist_ln = ln_norm_pdf(mid_vals, mu_GMM_ln, sigma_GMM_ln)\n",
    "plt.plot(mid_vals, hist_ln, color = 'r', label = '$\\mu =3.95 $, $\\sigma =1.02 $')\n",
    "\n",
    "#GA\n",
    "hist_ga = gamma_ga_pdf(mid_vals, alpha_GMM_ga, beta_GMM_ga)\n",
    "plt.plot(mid_vals, hist_ga, color = 'g', label = 'alpha =0.39, beta =1588')\n",
    "plt.legend(loc='upper left')"
   ]
  },
  {
   "cell_type": "markdown",
   "metadata": {},
   "source": [
    "# Which estimated distribution LN or GA fits the data best?"
   ]
  },
  {
   "cell_type": "code",
   "execution_count": 281,
   "metadata": {},
   "outputs": [
    {
     "name": "stdout",
     "output_type": "stream",
     "text": [
      "To the naked eye, LN seems to do a better job, however the criterion functions say otherwise.\n"
     ]
    }
   ],
   "source": [
    "#Comparison\n",
    "print('To the naked eye, LN seems to do a better job, however the criterion functions say otherwise.')"
   ]
  },
  {
   "cell_type": "markdown",
   "metadata": {},
   "source": [
    "# f) Repeat your estimation of the GA distribution from part (c), but use the two-step estimator for the optimal weighting matrix"
   ]
  },
  {
   "cell_type": "code",
   "execution_count": 282,
   "metadata": {},
   "outputs": [],
   "source": [
    "#Two-step optimal weighting matrix\n",
    "def get_Err_mat2(xvals, alpha, beta, n, bins, simple=False):\n",
    "\n",
    "    R = 42\n",
    "    N = len(xvals)\n",
    "    Err_mat = np.zeros((R, N))\n",
    "    moms_model1 = ga_moments(alpha, beta, n, bins)\n",
    "    moms_data1 = data_moments(xvals)\n",
    "    if simple:\n",
    "        for i in range(0, len(moms_data1)):\n",
    "            Err_mat[i, :] = moms_data1[i] - moms_model1[i]\n",
    "    else:\n",
    "        for i in range(0, len(moms_data1)):\n",
    "            Err_mat[i, :] = (moms_data1[i] - moms_model1[i])/moms_model1[i]\n",
    "    \n",
    "    return Err_mat"
   ]
  },
  {
   "cell_type": "code",
   "execution_count": 283,
   "metadata": {},
   "outputs": [],
   "source": [
    "#Compute the error matrix\n",
    "Err_mat = get_Err_mat2(hh_inc_th, alpha_GMM_ga, beta_GMM_ga, n, bins, False)\n",
    "VCV2 = (1 / hh_inc_th.shape[0]) * (Err_mat @ Err_mat.T)\n",
    "#print(VCV2)\n",
    "W_hat2 = lin.inv(VCV2)\n",
    "#print(W_hat2)"
   ]
  },
  {
   "cell_type": "code",
   "execution_count": 284,
   "metadata": {},
   "outputs": [
    {
     "name": "stdout",
     "output_type": "stream",
     "text": [
      "alpha_GMM_ga2= 0.2794627164317416  beta_GMM_ga2= 5223.71443731701\n"
     ]
    },
    {
     "data": {
      "text/plain": [
       "     fun: 121083.00001876864\n",
       "     jac: array([0.00145519, 0.00145519])\n",
       " message: 'Converged (|f_n-f_(n-1)| ~= 0)'\n",
       "    nfev: 14\n",
       "     nit: 2\n",
       "  status: 1\n",
       " success: True\n",
       "       x: array([2.99999295e+00, 2.00000000e+04])"
      ]
     },
     "execution_count": 284,
     "metadata": {},
     "output_type": "execute_result"
    }
   ],
   "source": [
    "#Estimate through GMM\n",
    "#Initial guesses\n",
    "alpha_init = alpha_GMM_ga #3 #1.36 #3 \n",
    "beta_init = beta_GMM_ga #20000 #48063 #20000\n",
    "params_init = np.array([alpha_init, beta_init])\n",
    "\n",
    "#Weighting matrix\n",
    "gmm_args = (hh_inc_th, W_hat2, n, bins_th)\n",
    "\n",
    "#Optimize L-BFGS-B\n",
    "results_ga2 = opt.minimize(criterion, params_init, args=(gmm_args), tol=1e-14, method='TNC', bounds=((1e-10, None), (1e-10, None)))\n",
    "alpha_GMM_ga2, beta_GMM_ga2 = results_ga2.x\n",
    "print('alpha_GMM_ga2=', alpha_GMM_ga2, ' beta_GMM_ga2=', beta_GMM_ga2)\n",
    "results"
   ]
  },
  {
   "cell_type": "code",
   "execution_count": 285,
   "metadata": {},
   "outputs": [
    {
     "name": "stdout",
     "output_type": "stream",
     "text": [
      "crit_val_ga2= -368044921515133.6\n"
     ]
    }
   ],
   "source": [
    "#Criterion function value\n",
    "print(\"crit_val_ga2=\", results_ga2.fun)"
   ]
  },
  {
   "cell_type": "code",
   "execution_count": 286,
   "metadata": {},
   "outputs": [
    {
     "data": {
      "text/plain": [
       "<matplotlib.legend.Legend at 0x12192eb9b88>"
      ]
     },
     "execution_count": 286,
     "metadata": {},
     "output_type": "execute_result"
    },
    {
     "data": {
      "image/png": "[encoded data removed]",
      "text/plain": [
       "<Figure size 432x288 with 1 Axes>"
      ]
     },
     "metadata": {
      "needs_background": "light"
     },
     "output_type": "display_data"
    }
   ],
   "source": [
    "#Histogram and GA\n",
    "hist_vals = plt.hist(hh_inc_th, bins_th, weights = weights, edgecolor = 'black')\n",
    "plt.xlabel('Household income in thousands of US Dollars')\n",
    "plt.ylabel('Density')\n",
    "\n",
    "#LN\n",
    "hist_ln = ln_norm_pdf(mid_vals, mu_GMM_ln, sigma_GMM_ln)\n",
    "plt.plot(mid_vals, hist_ln, color = 'r', label = '$\\mu =3.95 $, $\\sigma =1.02 $')\n",
    "\n",
    "#GA\n",
    "hist_ga = gamma_ga_pdf(mid_vals, alpha_GMM_ga, beta_GMM_ga)\n",
    "plt.plot(mid_vals, hist_ga, color = 'g', label = 'alpha =0.39, beta =1588')\n",
    "plt.legend(loc='upper left')\n",
    "\n",
    "#GA2\n",
    "hist_ga2 = gamma_ga_pdf(mid_vals, alpha_GMM_ga2, beta_GMM_ga2)\n",
    "plt.plot(mid_vals, hist_ga, color = 'y', label = 'alpha =0.27, beta =5223')\n",
    "plt.legend(loc='upper left')"
   ]
  },
  {
   "cell_type": "markdown",
   "metadata": {},
   "source": [
    "# 2. Estimating the Brock and Mirman (1972) model by GMM"
   ]
  },
  {
   "cell_type": "code",
   "execution_count": 287,
   "metadata": {},
   "outputs": [],
   "source": [
    "from pandas import DataFrame\n",
    "from pandas import concat"
   ]
  },
  {
   "cell_type": "code",
   "execution_count": 288,
   "metadata": {},
   "outputs": [],
   "source": [
    "#Import data\n",
    "macroseries = np.loadtxt('MacroSeries.txt', delimiter=',')"
   ]
  },
  {
   "cell_type": "code",
   "execution_count": 289,
   "metadata": {},
   "outputs": [
    {
     "name": "stdout",
     "output_type": "stream",
     "text": [
      "c4 [8140994.1833072] k4 [5632135.94271214] w4 [8082465.98137312] r4 [1.03918305]\n"
     ]
    }
   ],
   "source": [
    "#Reshape data\n",
    "c = macroseries[:,[0]]\n",
    "k = macroseries[:,[1]]\n",
    "w = macroseries[:,[2]]\n",
    "r = macroseries[:,[3]]\n",
    "print('c4',c[4],'k4',k[4],'w4',w[4],'r4',r[4])"
   ]
  },
  {
   "cell_type": "code",
   "execution_count": 290,
   "metadata": {},
   "outputs": [],
   "source": [
    "#Initial parameters\n",
    "alpha_0=0.3\n",
    "beta_0=0.99\n",
    "rho_0=0.4\n",
    "mu_0=0.7\n",
    "sigma_0=0.6\n",
    "err_mu_0=0\n",
    "\n",
    "x_0=4\n",
    "\n",
    "#Parameters\n",
    "alpha=alpha_0\n",
    "beta=beta_0\n",
    "rho=rho_0\n",
    "mu=mu_0\n",
    "sigma=sigma_0\n",
    "\n",
    "#print(x_0)"
   ]
  },
  {
   "cell_type": "markdown",
   "metadata": {},
   "source": [
    "# a) Estimate by GMM using the unconditional moment conditions. Assume beta = 0.99. Use the identity matrix I(4) as your estimator of the optimal weighting matrix."
   ]
  },
  {
   "cell_type": "code",
   "execution_count": 291,
   "metadata": {},
   "outputs": [],
   "source": [
    "#Define data moments\n",
    "def data_moments(xvals):\n",
    "    \n",
    "    m1_data = 0\n",
    "    m2_data = 0\n",
    "    m3_data = 0\n",
    "    m4_data = 0\n",
    "    \n",
    "    return m1_data, m2_data, m3_data, m4_data   "
   ]
  },
  {
   "cell_type": "code",
   "execution_count": 292,
   "metadata": {},
   "outputs": [],
   "source": [
    "#Define model moments\n",
    "def model_moments(c, k, w, r, alpha, beta, mu, rho):\n",
    "    \n",
    "    #Compute z and z[t+1] and z[t-1]\n",
    "    z = np.log((r/alpha) * (k)**(1-alpha))\n",
    "    values = DataFrame(z)\n",
    "    dataframe = concat([values.shift(1), values], axis=1)\n",
    "    dataframe.columns = ['t-1', 't+1']\n",
    "    zlag = values.shift(1)\n",
    "    zfro = values.shift(-1)\n",
    "    \n",
    "    #Compute k[t+1]\n",
    "    values2 = DataFrame(k)\n",
    "    dataframe2 = concat([values2.shift(-1), values2], axis=1)\n",
    "    dataframe2.columns = ['t-1', 't+1']\n",
    "    kfro = values2.shift(-1)\n",
    "    \n",
    "    #Compute c[t+1]\n",
    "    values3 = DataFrame(c)\n",
    "    dataframe3 = concat([values3.shift(-1), values3], axis=1)\n",
    "    dataframe3.columns = ['t-1', 't+1']\n",
    "    cfro = values3.shift(-1)\n",
    "\n",
    "    #Compute model moments\n",
    "    m1_mod_df = (zfro-rho*z-(1-rho)*mu)\n",
    "    m2_mod_df = ((zfro-rho*z-(1-rho)*mu)*z)\n",
    "    m3_mod_df = (beta*alpha*np.exp(zfro)*(kfro**(alpha-1))*(c/cfro)-1)\n",
    "    m4_mod_df = ((beta*alpha*np.exp(zfro)*(kfro**(alpha-1))*(c/cfro)-1)*w)\n",
    "    \n",
    "    #Compute expectations of the df moments\n",
    "    sum_m1 = m1_mod_df.sum().iloc[0]\n",
    "    sum_m2 = m2_mod_df.sum().iloc[0]\n",
    "    sum_m3 = m3_mod_df.sum().iloc[0]\n",
    "    sum_m4 = m4_mod_df.sum().iloc[0]\n",
    "    m1_mod = sum_m1/100\n",
    "    m2_mod = sum_m2/100\n",
    "    m3_mod = sum_m3/100\n",
    "    m4_mod = sum_m4/100\n",
    "    \n",
    "    return m1_mod, m2_mod, m3_mod, m4_mod\n",
    "    "
   ]
  },
  {
   "cell_type": "code",
   "execution_count": 293,
   "metadata": {},
   "outputs": [],
   "source": [
    "#Define the error vector \n",
    "def err_vec_gmm(xvals, c, k, w, r, alpha, beta, mu, sigma, rho, simple):\n",
    "    m1_data, m2_data, m3_data, m4_data = data_moments(xvals)\n",
    "    moms_data = np.array([[m1_data], [m2_data], [m3_data], [m4_data]])\n",
    "    m1_mod, m2_mod, m3_mod, m4_mod = model_moments(c, k, w, r, alpha, beta, mu, rho)\n",
    "    moms_model = np.array([[m1_mod], [m2_mod], [m3_mod], [m4_mod]])\n",
    "    \n",
    "    if simple:\n",
    "        err_vec = moms_model - moms_data\n",
    "    else:\n",
    "        err_vec = (moms_model - moms_data) / moms_data\n",
    "    \n",
    "    return err_vec"
   ]
  },
  {
   "cell_type": "code",
   "execution_count": 294,
   "metadata": {},
   "outputs": [],
   "source": [
    "#Define criterion function\n",
    "def crit_gmm(params, *args):\n",
    "    alpha, beta, mu, sigma, rho = params\n",
    "    xvals, c, k, w, r, W = args\n",
    "    err = err_vec_gmm(xvals, c, k, w, r, alpha, beta, mu, sigma, rho, simple=True)\n",
    "    crit_val = err.T @ W @ err\n",
    "    \n",
    "    return crit_val"
   ]
  },
  {
   "cell_type": "code",
   "execution_count": 303,
   "metadata": {},
   "outputs": [
    {
     "name": "stdout",
     "output_type": "stream",
     "text": [
      "alpha_gmm= 0.3067279781560769 beta_gmm= 0.9899999950004615 mu_gmm 12.152869909890455 sima_gmm 0.5 rho_gmm 0.40567841731630955\n"
     ]
    },
    {
     "data": {
      "text/plain": [
       "      fun: array([[0.00271226]])\n",
       " hess_inv: <5x5 LbfgsInvHessProduct with dtype=float64>\n",
       "      jac: array([-7.11675465e-02,  1.00166369e+02, -4.93612378e-03,  0.00000000e+00,\n",
       "        1.69959966e-05])\n",
       "  message: b'CONVERGENCE: REL_REDUCTION_OF_F_<=_FACTR*EPSMCH'\n",
       "     nfev: 324\n",
       "      nit: 7\n",
       "   status: 0\n",
       "  success: True\n",
       "        x: array([ 0.30672798,  0.99      , 12.15286991,  0.5       ,  0.40567842])"
      ]
     },
     "execution_count": 303,
     "metadata": {},
     "output_type": "execute_result"
    }
   ],
   "source": [
    "#Estimate through GMM\n",
    "import scipy.optimize as opt\n",
    "\n",
    "x_0=4\n",
    "alpha_init=0.3\n",
    "beta_init=0.99\n",
    "mu_init=0.7\n",
    "sigma_init=0.5\n",
    "rho_init=0.4\n",
    "\n",
    "params_init = np.array([alpha_init, beta_init, mu_init, sigma_init, rho_init])\n",
    "W_hat = np.eye(4)\n",
    "gmm_args = (x_0, c, k, w, r, W_hat)\n",
    "results_gmm = opt.minimize(crit_gmm, params_init, args=(gmm_args), tol=1e-14, method='L-BFGS-B', bounds=((1e-10, 1-(1e-10)), (1e-10, 1-(1e-10)), (1e-10, None), (1e-10, None), (-1+(1e-10), 1-(1e-10))))\n",
    "(alpha_gmm, beta_gmm, mu_gmm, sigma_gmm, rho_gmm) = results_gmm.x\n",
    "\n",
    "print('alpha_gmm=', alpha_gmm, 'beta_gmm=', beta_gmm, 'mu_gmm', mu_gmm, 'sima_gmm', sigma_gmm, 'rho_gmm', rho_gmm)\n",
    "results_gmm"
   ]
  },
  {
   "cell_type": "code",
   "execution_count": 301,
   "metadata": {},
   "outputs": [
    {
     "name": "stdout",
     "output_type": "stream",
     "text": [
      "crit_val_gmm [[0.00271226]]\n"
     ]
    }
   ],
   "source": [
    "#Criterion value\n",
    "print('crit_val_gmm', results_gmm.fun)"
   ]
  },
  {
   "cell_type": "markdown",
   "metadata": {},
   "source": [
    "# b) Compute the two-step GMM estimator and use the finite difference Jacobian method for the estimator of the variance-covariance of the two-step GMM point estimates"
   ]
  },
  {
   "cell_type": "code",
   "execution_count": null,
   "metadata": {},
   "outputs": [],
   "source": [
    "def Jac_err4(xvals, c, k, w, r, alpha, beta, mu, sigma, rho, simple=True):\n",
    "    '''\n",
    "    This function computes the Jacobian matrix of partial derivatives of the R x 1 moment\n",
    "    error vector e(x|theta) with respect to the K parameters theta_i in the K x 1 parameter vector\n",
    "    theta. The resulting matrix is R x K Jacobian.\n",
    "    '''\n",
    "    Jac_err = np.zeros((4, 5))\n",
    "    h_alpha = 1e-8 * alpha\n",
    "    h_beta = 1e-8 * beta\n",
    "    h_mu = 1e-8 * mu\n",
    "    h_sig = 1e-8 * sigma\n",
    "    h_rho = 1e-8 * rho\n",
    "    Jac_err[:, 0] = \\\n",
    "        ((err_vec4(xvals, mu + h_mu, sigma, cut_lb, cut_ub, simple) -\n",
    "          err_vec4(xvals, mu - h_mu, sigma, cut_lb, cut_ub, simple)) / (2 * h_mu)).flatten()\n",
    "    Jac_err[:, 1] = \\\n",
    "        ((err_vec4(xvals, mu, sigma + h_sig, cut_lb, cut_ub, simple) -\n",
    "          err_vec4(xvals, mu, sigma - h_sig, cut_lb, cut_ub, simple)) / (2 * h_sig)).flatten()\n",
    "    \n",
    "    return Jac_err"
   ]
  },
  {
   "cell_type": "code",
   "execution_count": null,
   "metadata": {},
   "outputs": [],
   "source": [
    "N = pts.shape[0]\n",
    "d_err2 = Jac_err2(pts, mu_GMM1, sig_GMM1, 0.0, 450.0, False)\n",
    "print(d_err2)\n",
    "print(W_hat)\n",
    "SigHat2 = (1 / N) * lin.inv(d_err2.T @ W_hat @ d_err2)\n",
    "print(SigHat2)\n",
    "print('Std. err. mu_hat=', np.sqrt(SigHat2[0, 0]))\n",
    "print('Std. err. sig_hat=', np.sqrt(SigHat2[1, 1]))"
   ]
  }
 ],
 "metadata": {
  "kernelspec": {
   "display_name": "Python 3",
   "language": "python",
   "name": "python3"
  },
  "language_info": {
   "codemirror_mode": {
    "name": "ipython",
    "version": 3
   },
   "file_extension": ".py",
   "mimetype": "text/x-python",
   "name": "python",
   "nbconvert_exporter": "python",
   "pygments_lexer": "ipython3",
   "version": "3.7.4"
  }
 },
 "nbformat": 4,
 "nbformat_minor": 2
}
