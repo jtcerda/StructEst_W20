{
 "cells": [
  {
   "cell_type": "markdown",
   "metadata": {},
   "source": [
    "# Structural Estimation\n",
    "# PS4\n",
    "# Jose Cerda"
   ]
  },
  {
   "cell_type": "markdown",
   "metadata": {},
   "source": [
    "# Estimating the Brock and Mirman (1972) model by SMM"
   ]
  },
  {
   "cell_type": "code",
   "execution_count": null,
   "metadata": {},
   "outputs": [],
   "source": [
    "#Check\n",
    "#Adjust number of simulation from 10 to 1000 (when ready)\n",
    "#Corr in data moments\n",
    "#More than 1 dimension in data moments for simulations"
   ]
  },
  {
   "cell_type": "code",
   "execution_count": 126,
   "metadata": {},
   "outputs": [],
   "source": [
    "# Import the necessary libraries\n",
    "import numpy.linalg as lin\n",
    "import scipy.integrate as intgr\n",
    "import numpy as np\n",
    "import scipy.stats as sts\n",
    "import requests\n",
    "import statistics\n",
    "import matplotlib.pyplot as plt\n",
    "import pandas as pd\n",
    "import scipy.special as spc\n",
    "import os\n",
    "import random\n",
    "import scipy.optimize as opt\n",
    "from pandas import DataFrame\n",
    "from pandas import concat\n",
    "import seaborn as sns\n",
    "sns.set()"
   ]
  },
  {
   "cell_type": "code",
   "execution_count": 127,
   "metadata": {},
   "outputs": [],
   "source": [
    "#Import data\n",
    "macroseries = np.loadtxt('data/NewMacroSeries.txt', delimiter=',')"
   ]
  },
  {
   "cell_type": "code",
   "execution_count": 128,
   "metadata": {},
   "outputs": [
    {
     "name": "stdout",
     "output_type": "stream",
     "text": [
      "c4 [9245673.48747698] k4 [6912184.01188691] w4 [9179203.3939347] r4 [0.96163663] y4 [15826212.74816327]\n"
     ]
    }
   ],
   "source": [
    "#Reshape data\n",
    "c = macroseries[:,[0]]\n",
    "k = macroseries[:,[1]]\n",
    "w = macroseries[:,[2]]\n",
    "r = macroseries[:,[3]]\n",
    "y = macroseries[:,[4]]\n",
    "print('c4',c[4],'k4',k[4],'w4',w[4],'r4',r[4], 'y4', y[4])\n",
    "#df = pd.DataFrame(macroseries)\n",
    "#df.columns = ['c', 'k', 'w', 'r', 'y']"
   ]
  },
  {
   "cell_type": "code",
   "execution_count": 129,
   "metadata": {},
   "outputs": [],
   "source": [
    "#Initial parameters\n",
    "alpha_0=0.3\n",
    "beta=0.99\n",
    "rho_0=0.4\n",
    "mu_0=0.7\n",
    "sigma_0=0.6\n",
    "np.random.seed(100)\n",
    "\n",
    "#Parameters\n",
    "alpha=alpha_0\n",
    "#beta=beta_0\n",
    "rho=rho_0\n",
    "mu=mu_0\n",
    "sigma=sigma_0"
   ]
  },
  {
   "cell_type": "markdown",
   "metadata": {},
   "source": [
    "## First, assume that z0 = mu and that k1 = mean(kt) from the data. Also assume that beta = 0.99. Next, draw a matrix of S = 1000 simulations (columns) of T = 100 (rows) from a uniform distribution"
   ]
  },
  {
   "cell_type": "code",
   "execution_count": 130,
   "metadata": {},
   "outputs": [
    {
     "name": "stdout",
     "output_type": "stream",
     "text": [
      "z_0 = 0.7 k_1 = 6643985.138299068\n"
     ]
    }
   ],
   "source": [
    "# Assumptions\n",
    "z_0 = mu\n",
    "k_1 = k.mean()\n",
    "print('z_0 =', z_0, 'k_1 =', k_1)"
   ]
  },
  {
   "cell_type": "code",
   "execution_count": 131,
   "metadata": {},
   "outputs": [],
   "source": [
    "# Define LN dist\n",
    "def ln_norm_pdf(xvals, mu, sigma):\n",
    "    pdf_vals = ((1/(xvals * sigma * np.sqrt(2 * np.pi))) * np.exp( - (np.log(xvals) - mu)**2 / (2 * sigma**2)))\n",
    "    pdf_vals[pdf_vals < 1e-10] = 1e-10\n",
    "    return pdf_vals"
   ]
  },
  {
   "cell_type": "code",
   "execution_count": 132,
   "metadata": {},
   "outputs": [],
   "source": [
    "# Define function that draws N x S values\n",
    "def norm_draws(unif_vals, mu, sigma):\n",
    "    norm_draws_vals = sts.norm.ppf(unif_vals, loc=mu, scale=sigma)\n",
    "    return norm_draws_vals"
   ]
  },
  {
   "cell_type": "code",
   "execution_count": 133,
   "metadata": {},
   "outputs": [],
   "source": [
    "# Priors to simulations\n",
    "#Parameters of simulations\n",
    "alpha_s = 0.5\n",
    "beta = 0.99\n",
    "mu_s = 10\n",
    "sigma_s = 0.1\n",
    "rho_s = 0.7"
   ]
  },
  {
   "cell_type": "code",
   "execution_count": 134,
   "metadata": {},
   "outputs": [],
   "source": [
    "#Simulations function\n",
    "def sim_fn(alpha_s, mu_s, sigma_s, rho_s):\n",
    "    \n",
    "    t=100 #Size of the observation matrix to simulate\n",
    "    s=1000 #Number of simulations (Change to 1000 when ready)\n",
    "    beta = 0.99\n",
    "    err_mu = 0\n",
    "    err_sigma = sigma_s\n",
    "    np.random.seed(100) # Set the random number seed so it gives same answers every time\n",
    "    unif_vals = sts.uniform.rvs(0, 1, size=(t, s))\n",
    "    \n",
    "    #Errors simulation\n",
    "    err_s = norm_draws(unif_vals, 0, err_sigma)\n",
    "\n",
    "    #z simulation\n",
    "    #Compute z and z[t-1]\n",
    "    z_s = np.zeros((t, s))\n",
    "    zlag_s = np.zeros((t, s))\n",
    "    z_s[0,:] = mu_s+err_s[0,:]\n",
    "    for i in range(1, t):\n",
    "        for j in range(0,s):\n",
    "            zlag_s[i,j] = z_s[i-1,j]\n",
    "            z_s[i,j] = rho_s*(zlag_s[i,j])+(1-rho_s)*mu_s+err_s[i,j]\n",
    "        \n",
    "    #k simulation\n",
    "    k_s = np.zeros((t, s))\n",
    "    k_s[0,:] = k.mean()\n",
    "    for i in range(0,t-1):\n",
    "        for j in range(0, s):\n",
    "            k_s[i+1,j] = alpha_s*beta*np.exp(z_s[i,j])*k_s[i,j]**alpha_s\n",
    "        \n",
    "    #w simulation\n",
    "    w_s = np.zeros((t, s))\n",
    "    for i in range(0, t):\n",
    "        for j in range(0,s):\n",
    "            w_s[i,j] = (1-alpha_s)*(np.exp(z_s[i,j]))*((k_s[i,j])**alpha_s)\n",
    "        \n",
    "    #r simulation\n",
    "    r_s = np.zeros((t, s))\n",
    "    for i in range(0, t):\n",
    "        for j in range(0,s):\n",
    "            r_s[i,j] = alpha_s*np.exp(z_s[i,j])*(k_s[i,j])**(alpha_s-1)\n",
    "        \n",
    "    #c simulation\n",
    "    c_s = np.zeros((t, s))\n",
    "    for i in range(0, t-1):\n",
    "        for j in range(0,s):\n",
    "            c_s[i,j] = w_s[i,j]+(r_s[i,j])*(k_s[i,j])-k_s[i+1,j]\n",
    "        \n",
    "    #y simulation\n",
    "    y_s = np.zeros((t, s))\n",
    "    for i in range(0, t):\n",
    "        for j in range(0,s):\n",
    "            y_s[i,j] = np.exp(z_s[i,j])*k_s[i,j]**alpha_s\n",
    "        \n",
    "    #Compute consumption share\n",
    "    c_sh_s = np.zeros((t, s))\n",
    "    for i in range(0, t):\n",
    "        for j in range(0,s):\n",
    "            c_sh_s[i,j] = c_s[i,j]/y_s[i,j]\n",
    "        \n",
    "    #Compute consumption lag\n",
    "    #c_lag_s = np.zeros((t, s))\n",
    "    c_lag_s = np.ones((t, s))\n",
    "    #c_lag_s = c_s\n",
    "    for i in range(0, t):\n",
    "        for j in range(0,s):\n",
    "            c_lag_s[i,j] = c_s[i-1,j]\n",
    "        \n",
    "    return c_s, k_s, w_s, r_s, y_s, c_sh_s, c_lag_s\n",
    "    "
   ]
  },
  {
   "cell_type": "markdown",
   "metadata": {},
   "source": [
    "# a) Estimate four parameters. Choose the four parameters to match the following six moments: mean(ct), mean(kt), mean(ct/yt), var(yt), corr(ct, ct-1), corr(ct; kt)"
   ]
  },
  {
   "cell_type": "code",
   "execution_count": 135,
   "metadata": {},
   "outputs": [],
   "source": [
    "#Newvars\n",
    "#Consumption share\n",
    "c_sh = c/y\n",
    "#Compute c[t-1]\n",
    "c_df = DataFrame(c)\n",
    "c_df_mat = concat([c_df.shift(-1), c_df], axis=1)\n",
    "c_df_mat.columns = ['t-1', 't+1']\n",
    "#c_lag = c_df_mat.shift(1)"
   ]
  },
  {
   "cell_type": "code",
   "execution_count": 136,
   "metadata": {},
   "outputs": [],
   "source": [
    "#Define the data moments\n",
    "def moments_fn(c, k, w, r, y, c_sh, c_lag):\n",
    "        \n",
    "    #calc c_lag\n",
    "    c_lag = pd.DataFrame(c).shift(1)\n",
    "    c_lag_arr = np.asarray(c)\n",
    "    #c_lag_arr = np.asarray(c_lag)\n",
    "    \n",
    "    #Moments\n",
    "    if c.ndim == 1:\n",
    "        m1_fn = c.mean()\n",
    "        m2_fn = k.mean()\n",
    "        m3_fn = c_sh.mean()\n",
    "        m4_fn = y.var()\n",
    "        m5_fn = sts.pearsonr(c,c_lag_arr)[0]\n",
    "        m6_fn = sts.pearsonr(c,k)[0]\n",
    "    elif c.ndim == 2:\n",
    "        m1_fn = statistics.mean(c.mean(axis=0))\n",
    "        m2_fn = statistics.mean(k.mean(axis=0))\n",
    "        m3_fn = statistics.mean(c_sh.mean(axis=0))\n",
    "        m4_fn = statistics.mean(y.var(axis=0))\n",
    "        c_avg = c.mean(axis=1)\n",
    "        k_avg = k.mean(axis=1)\n",
    "        c_lag_avg = c_lag_arr.mean(axis=1)\n",
    "        m5_fn = sts.pearsonr(c_avg, c_lag_avg)[0]\n",
    "        m6_fn = sts.pearsonr(c_avg, k_avg)[0]\n",
    "\n",
    "    return m1_fn, m2_fn, m3_fn, m4_fn, m5_fn, m6_fn   "
   ]
  },
  {
   "cell_type": "code",
   "execution_count": 137,
   "metadata": {},
   "outputs": [
    {
     "name": "stdout",
     "output_type": "stream",
     "text": [
      "m1_dta 9281790.485669706\n",
      "m2_dta 6643985.138299068\n",
      "m3_dta 0.5842000000000002\n",
      "m4_dta 28377825058899.727\n",
      "m5_dta 0.9999999999999999\n",
      "m6_dta 0.9408030537975818\n"
     ]
    }
   ],
   "source": [
    "#Compute the data moments\n",
    "m1_dta, m2_dta, m3_dta, m4_dta, m5_dta, m6_dta = moments_fn(c, k, w, r, y, c_sh, c_lag)\n",
    "dta_moms = np.array([[m1_dta], [m2_dta], [m3_dta], [m4_dta], [m5_dta], [m6_dta]])\n",
    "print('m1_dta', m1_dta)\n",
    "print('m2_dta', m2_dta)\n",
    "print('m3_dta', m3_dta)\n",
    "print('m4_dta', m4_dta)\n",
    "print('m5_dta', m5_dta)\n",
    "print('m6_dta', m6_dta)"
   ]
  },
  {
   "cell_type": "code",
   "execution_count": 138,
   "metadata": {},
   "outputs": [
    {
     "name": "stdout",
     "output_type": "stream",
     "text": [
      "m1_mom 120884352.63416785\n",
      "m2_mom 118557042.9284386\n",
      "m3_mom 0.49995000000000067\n",
      "m4_mom 3594274374123498.5\n",
      "m5_mom 1.0\n",
      "m6_mom 0.6900841196225584\n"
     ]
    }
   ],
   "source": [
    "#Compute the model moments prior\n",
    "c_sim1, k_sim1, w_sim1, r_sim1, y_sim1, c_sh_sim1, c_lag_sim1 = sim_fn(alpha_s, mu_s, sigma_s, rho_s)\n",
    "m1_mom, m2_mom, m3_mom, m4_mom, m5_mom, m6_mom = moments_fn(c_sim1, k_sim1, w_sim1, r_sim1, y_sim1, c_sh_sim1, c_lag_sim1)\n",
    "mod_moms = np.array([[m1_mom], [m2_mom], [m3_mom], [m4_mom], [m5_mom], [m6_mom]])\n",
    "print('m1_mom', m1_mom)\n",
    "print('m2_mom', m2_mom)\n",
    "print('m3_mom', m3_mom)\n",
    "print('m4_mom', m4_mom)\n",
    "print('m5_mom', m5_mom)\n",
    "print('m6_mom', m6_mom)"
   ]
  },
  {
   "cell_type": "code",
   "execution_count": 140,
   "metadata": {},
   "outputs": [],
   "source": [
    "#print(c_sim1, c_lag_sim1)"
   ]
  },
  {
   "cell_type": "code",
   "execution_count": 141,
   "metadata": {},
   "outputs": [],
   "source": [
    "#Error vector\n",
    "def err_vec(sim_vals, simple):\n",
    "    c_sim, k_sim, w_sim, r_sim, y_sim, c_sh_sim, c_lag_sim = sim_vals\n",
    "    \n",
    "    #Data moments\n",
    "    m1_dta, m2_dta, m3_dta, m4_dta, m5_dta, m6_dta = moments_fn(c, k, w, r, y, c_sh, c_lag)\n",
    "    moms_data = np.array([[m1_dta], [m2_dta], [m3_dta], [m4_dta], [m5_dta], [m6_dta]])\n",
    "    \n",
    "    #Model moments\n",
    "    m1_mom, m2_mom, m3_mom, m4_mom, m5_mom, m6_mom = moments_fn(c_sim, k_sim, w_sim, r_sim, y_sim, c_sh_sim, c_lag_sim)\n",
    "    moms_sim = np.array([[m1_mom], [m2_mom], [m3_mom], [m4_mom], [m5_mom], [m6_mom]])\n",
    "\n",
    "    #Err vec\n",
    "    if simple:\n",
    "        err_vec = moms_sim - moms_data\n",
    "    else:\n",
    "        err_vec = (moms_sim - moms_data) / moms_data\n",
    "    \n",
    "    return err_vec\n",
    "    \n",
    "    "
   ]
  },
  {
   "cell_type": "code",
   "execution_count": 142,
   "metadata": {},
   "outputs": [],
   "source": [
    "#Criterion function\n",
    "def criterion(params, *args):\n",
    "    alpha, mu, sigma, rho = params\n",
    "    sim_vals, W_hat = args\n",
    "    sim_vals = sim_fn(alpha, mu, sigma, rho)\n",
    "    err = err_vec(sim_vals, simple=True)\n",
    "    crit_val = err.T @ W_hat @ err \n",
    "    return crit_val    \n",
    "    "
   ]
  },
  {
   "cell_type": "code",
   "execution_count": 143,
   "metadata": {},
   "outputs": [
    {
     "name": "stdout",
     "output_type": "stream",
     "text": [
      "alpha_smm= 0.45160303331885226 mu_smm= 9.842663921801112 sigma_smm= 0.07778608914972601 rho_smm= 0.6931743467625961\n"
     ]
    }
   ],
   "source": [
    "#Estimate by SMM\n",
    "#Initial parameters\n",
    "alpha_init = alpha_s\n",
    "beta = 0.99\n",
    "mu_init = mu_s\n",
    "sigma_init = sigma_s\n",
    "rho_init = rho_s\n",
    "params_init = np.array([alpha_init, mu_init, sigma_init, rho_init])\n",
    "W_hat = np.eye(6)\n",
    "sim_init = sim_fn(alpha_init, mu_init, sigma_init, rho_init)\n",
    "\n",
    "smm_args = (sim_init, W_hat)\n",
    "\n",
    "results = opt.minimize(criterion, params_init, args=(smm_args), method='TNC', bounds=((0.01-(1e-10), 0.99+(1e-10)), (5-(1e-10), 14+(1e-10)), (0.01-(1e-10), 1.1+(1e-10)), (-0.99-(1e-10), 0.99+(1e-10))))\n",
    "\n",
    "#results = opt.minimize(criterion, params_init, args=(smm_args), method='L-BFGS-B', bounds=((1e-10, 1-(1e-10)), (5+(1e-10), 14-(1e-10)), (1e-10, 1.1-(1e-10)), (-1+(1e-10), 1-(1e-10))))\n",
    "alpha_smm, mu_smm, sigma_smm, rho_smm = results.x\n",
    "print('alpha_smm=', alpha_smm, 'mu_smm=', mu_smm, 'sigma_smm=', sigma_smm, 'rho_smm=', rho_smm)"
   ]
  },
  {
   "cell_type": "code",
   "execution_count": 144,
   "metadata": {
    "scrolled": true
   },
   "outputs": [
    {
     "data": {
      "text/plain": [
       "     fun: array([[3.2697676e+14]])\n",
       "     jac: array([9.42180777e+22, 3.14265213e+21, 2.57297487e+22, 2.77858888e+21])\n",
       " message: 'Converged (|x_n-x_(n-1)| ~= 0)'\n",
       "    nfev: 47\n",
       "     nit: 6\n",
       "  status: 2\n",
       " success: True\n",
       "       x: array([0.45160303, 9.84266392, 0.07778609, 0.69317435])"
      ]
     },
     "execution_count": 144,
     "metadata": {},
     "output_type": "execute_result"
    }
   ],
   "source": [
    "#Check convergence\n",
    "results"
   ]
  },
  {
   "cell_type": "code",
   "execution_count": 145,
   "metadata": {},
   "outputs": [
    {
     "name": "stdout",
     "output_type": "stream",
     "text": [
      "crit_val  [[3.2697676e+14]]\n"
     ]
    }
   ],
   "source": [
    "#Criterion function value\n",
    "print(\"crit_val \", results.fun)"
   ]
  },
  {
   "cell_type": "code",
   "execution_count": 146,
   "metadata": {},
   "outputs": [],
   "source": [
    "#Jacobian matrix\n",
    "def jac_err(alpha, mu, sigma, rho, simple=True):\n",
    "    '''\n",
    "    This function computes the Jacobian matrix of partial derivatives of the R x 1 moment\n",
    "    error vector e(x|theta) with respect to the K parameters theta_i in the K x 1 parameter vector\n",
    "    theta. The resulting matrix is R x K Jacobian.\n",
    "    '''\n",
    "    jac_err_mat = np.zeros((6, 4))\n",
    "    h_alpha = 1e-4 * alpha\n",
    "    h_mu = 1e-4 * mu\n",
    "    h_sigma = 1e-4 * sigma\n",
    "    h_rho = 1e-4 * rho\n",
    "\n",
    "    jac_err_mat[:, 0] = \\\n",
    "        ((err_vec(sim_fn(alpha + h_alpha, mu, sigma, rho), simple) -\n",
    "          err_vec(sim_fn(alpha - h_alpha, mu, sigma, rho), simple)) / (2 * h_alpha)).flatten()\n",
    "    jac_err_mat[:, 1] = \\\n",
    "        ((err_vec(sim_fn(alpha, mu + h_mu, sigma, rho), simple) -\n",
    "          err_vec(sim_fn(alpha, mu - h_mu, sigma, rho), simple)) / (2 * h_mu)).flatten()  \n",
    "    jac_err_mat[:, 2] = \\\n",
    "        ((err_vec(sim_fn(alpha, mu, sigma + h_sigma, rho), simple) -\n",
    "          err_vec(sim_fn(alpha, mu, sigma - h_sigma, rho), simple)) / (2 * h_sigma)).flatten()\n",
    "    jac_err_mat[:, 3] = \\\n",
    "        ((err_vec(sim_fn(alpha, mu, sigma, rho + h_rho), simple) -\n",
    "          err_vec(sim_fn(alpha, mu, sigma, rho - h_rho), simple)) / (2 * h_rho)).flatten()\n",
    "\n",
    "\n",
    "    return jac_err_mat"
   ]
  },
  {
   "cell_type": "code",
   "execution_count": 147,
   "metadata": {},
   "outputs": [
    {
     "name": "stdout",
     "output_type": "stream",
     "text": [
      "d_err [[ 5.70333772e+01  3.45841056e+00  6.66222564e-01  9.28494884e-02]\n",
      " [ 7.30638528e+01  3.90674354e+00  7.52588699e-01  1.04886084e-01]\n",
      " [-1.67767888e+00  0.00000000e+00  0.00000000e+00  0.00000000e+00]\n",
      " [ 6.95731440e+01  3.81090210e+00  2.57049977e+01  3.38353850e+00]\n",
      " [ 0.00000000e+00  0.00000000e+00  0.00000000e+00  1.60165048e-12]\n",
      " [ 1.20264024e+01  6.00522545e-01  3.40280702e-01  9.39001450e-02]]\n",
      "Weight matrix [[1. 0. 0. 0. 0. 0.]\n",
      " [0. 1. 0. 0. 0. 0.]\n",
      " [0. 0. 1. 0. 0. 0.]\n",
      " [0. 0. 0. 1. 0. 0.]\n",
      " [0. 0. 0. 0. 1. 0.]\n",
      " [0. 0. 0. 0. 0. 1.]]\n",
      "SigHat [[ 2.80987808e-05 -4.96560619e-04  1.01839224e-04 -7.92174715e-04]\n",
      " [-4.96560619e-04  8.81656494e-03 -1.66018870e-03  1.28906279e-02]\n",
      " [ 1.01839224e-04 -1.66018870e-03  7.85617573e-03 -5.98890491e-02]\n",
      " [-7.92174715e-04  1.28906279e-02 -5.98890491e-02  4.56696645e-01]]\n",
      "Std. err. alpha_hat= 0.005300828311392224\n",
      "Std. err. mu_hat= 0.0938965650935572\n",
      "Std. err. sigma_hat= 0.08863507054481588\n",
      "Std. err. rho_hat= 0.675793344678198\n"
     ]
    }
   ],
   "source": [
    "#Std error calculation\n",
    "S = 1000\n",
    "d_err = jac_err(alpha_smm, mu_smm, sigma_smm, rho_smm, False)\n",
    "print(\"d_err\", d_err)\n",
    "print(\"Weight matrix\", W_hat)\n",
    "SigHat = (1 / S) * lin.inv(d_err.T @ W_hat @ d_err)\n",
    "print(\"SigHat\", SigHat)\n",
    "print('Std. err. alpha_hat=', np.sqrt(SigHat[0, 0]))\n",
    "print('Std. err. mu_hat=', np.sqrt(SigHat[1, 1]))\n",
    "print('Std. err. sigma_hat=', np.sqrt(SigHat[2, 2]))\n",
    "print('Std. err. rho_hat=', np.sqrt(SigHat[3, 3]))"
   ]
  },
  {
   "cell_type": "markdown",
   "metadata": {},
   "source": [
    "# b) Perform the estimation using the two-step estimator for the optimal weighting matrix W2step."
   ]
  },
  {
   "cell_type": "code",
   "execution_count": 148,
   "metadata": {},
   "outputs": [],
   "source": [
    "#Define error matrix\n",
    "def err_mat_fn(sim_vals, alpha, mu, sigma, rho, simple=True):\n",
    "    c_sim, k_sim, w_sim, r_sim, y_sim, c_sh_sim, c_lag_sim = sim_vals\n",
    "    R = 6\n",
    "    S = 1000\n",
    "    err_mat = np.zeros((R, S))\n",
    "    m1_dta, m2_dta, m3_dta, m4_dta, m5_dta, m6_dta = moments_fn(c, k, w, r, y, c_sh, c_lag)\n",
    "    m1_mod, m2_mod, m3_mod, m4_mod, m5_mod, m6_mod = moments_fn(c_sim, k_sim, w_sim, r_sim, y_sim, c_sh_sim, c_lag_sim)\n",
    "    if simple:\n",
    "        err_mat[0, :] = m1_mod - m1_dta\n",
    "        err_mat[1, :] = m2_mod - m2_dta\n",
    "        err_mat[2, :] = m3_mod - m3_dta\n",
    "        err_mat[3, :] = m4_mod - m4_dta\n",
    "        err_mat[4, :] = m5_mod - m5_dta\n",
    "        err_mat[5, :] = m6_mod - m6_dta\n",
    "\n",
    "\n",
    "    else:\n",
    "        err_mat[0, :] = (m1_mod - m1_dta) / m1_dta\n",
    "        err_mat[1, :] = (m2_mod - m2_dta) / m2_dta\n",
    "        err_mat[2, :] = (m3_mod - m3_dta) / m3_dta\n",
    "        err_mat[3, :] = (m4_mod - m4_dta) / m4_dta\n",
    "        err_mat[4, :] = (m5_mod - m5_dta) / m5_dta\n",
    "        err_mat[5, :] = (m6_mod - m6_dta) / m6_dta\n",
    "    \n",
    "    return err_mat"
   ]
  },
  {
   "cell_type": "code",
   "execution_count": 154,
   "metadata": {
    "scrolled": false
   },
   "outputs": [
    {
     "name": "stdout",
     "output_type": "stream",
     "text": [
      "[[ 7.12046395e+13  6.54047764e+13 -3.10664991e+05  1.18043961e+14\n",
      "   9.36837736e-10 -5.27998566e+06]\n",
      " [ 6.54047764e+13  6.00773322e+13 -2.85360258e+05  1.08428874e+14\n",
      "   8.60529077e-10 -4.84991265e+06]\n",
      " [-3.10664991e+05 -2.85360258e+05  1.35542765e-03 -5.15024393e+05\n",
      "  -4.08741185e-18  2.30365144e-02]\n",
      " [ 1.18043961e+14  1.08428874e+14 -5.15024393e+05  1.95694788e+14\n",
      "   1.55310157e-09 -8.75322771e+06]\n",
      " [ 9.36837736e-10  8.60529077e-10 -4.08741185e-18  1.55310157e-09\n",
      "   1.23259516e-32 -6.94686448e-17]\n",
      " [-5.27998566e+06 -4.84991265e+06  2.30365144e-02 -8.75322771e+06\n",
      "  -6.94686448e-17  3.91522923e-01]]\n",
      "[[ 5.49464406e+00 -2.22041109e+00 -1.97733215e+08 -7.64143784e+00\n",
      "   6.47855635e+23  2.34043420e+06]\n",
      " [-2.18400221e+00  1.36010109e+00  4.03518335e+08  3.20474968e+00\n",
      "  -3.40744796e+23 -2.51580681e+07]\n",
      " [-1.26458629e+08  3.76026175e+08  2.88516230e+17  3.14286829e+06\n",
      "   8.76111840e+31  1.59205631e+15]\n",
      " [-7.20491015e+00  3.07898088e+00  8.65557855e+07  5.08067995e+00\n",
      "  -2.17107612e+23  1.09500597e+07]\n",
      " [ 6.08528747e+23 -3.29145470e+23  8.06226677e+31 -2.13885011e+23\n",
      "   1.82825472e+46 -2.15233731e+30]\n",
      " [ 1.37932191e+06 -2.47851864e+07  1.59628413e+15  1.21007467e+07\n",
      "  -2.24890772e+30 -5.10835968e+14]]\n"
     ]
    }
   ],
   "source": [
    "#Compute W_hat_2s\n",
    "S=1000\n",
    "c_sim_2s, k_sim_2s, w_sim_2s, r_sim_2s, y_sim_2s, c_sh_sim_2s, c_lag_sim_2s = sim_fn(alpha_smm, mu_smm, sigma_smm, rho_smm)\n",
    "c_sim_2s, k_sim_2s, w_sim_2s, r_sim_2s, y_sim_2s, c_sh_sim_2s, c_lag_sim_2s = sim_vals_2s\n",
    "err_mat_2s = err_mat_fn(sim_vals_2s, alpha_smm, mu_smm, sigma_smm, rho_smm, True)\n",
    "print('err_mat', err_mat)\n",
    "VCV2 = (1 / S) * (err_mat_2s @ err_mat_2s.T)\n",
    "print(VCV2)\n",
    "W_hat_2s = lin.inv(VCV2)\n",
    "print(W_hat_2s)"
   ]
  },
  {
   "cell_type": "code",
   "execution_count": 151,
   "metadata": {},
   "outputs": [],
   "source": [
    "#print(c_sim_2s, c_lag_sim_2s)"
   ]
  },
  {
   "cell_type": "code",
   "execution_count": 159,
   "metadata": {},
   "outputs": [
    {
     "name": "stdout",
     "output_type": "stream",
     "text": [
      "alpha_smm_2s= 0.45160303331885226 mu_smm_2s= 9.842663921801112 sigma_smm_2s= 0.07778608914972601 rho_smm_2s= 0.6931743467625961\n"
     ]
    }
   ],
   "source": [
    "#Estimate by SMM\n",
    "#Initial parameters\n",
    "alpha_init = alpha_smm\n",
    "beta = 0.99\n",
    "mu_init = mu_smm\n",
    "sigma_init = sigma_smm\n",
    "rho_init = rho_smm\n",
    "params_init_2s = np.array([alpha_init, mu_init, sigma_init, rho_init])\n",
    "sim_init_2s = sim_fn(alpha_init, mu_init, sigma_init, rho_init)\n",
    "\n",
    "smm_args_2s = (sim_init_2s, W_hat_2s)\n",
    "\n",
    "results_2s = opt.minimize(criterion, params_init_2s, args=(smm_args_2s), method='L-BFGS-B', bounds=((0.01-(1e-10), 0.99+(1e-10)), (5-(1e-10), 14+(1e-10)), (0.01-(1e-10), 1.1+(1e-10)), (-0.99-(1e-10), 0.99+(1e-10))))\n",
    "\n",
    "#results = opt.minimize(criterion, params_init, args=(smm_args), method='L-BFGS-B', bounds=((1e-10, 1-(1e-10)), (5+(1e-10), 14-(1e-10)), (1e-10, 1.1-(1e-10)), (-1+(1e-10), 1-(1e-10))))\n",
    "alpha_smm_2s, mu_smm_2s, sigma_smm_2s, rho_smm_2s = results_2s.x\n",
    "print('alpha_smm_2s=', alpha_smm_2s, 'mu_smm_2s=', mu_smm_2s, 'sigma_smm_2s=', sigma_smm_2s, 'rho_smm_2s=', rho_smm_2s)"
   ]
  },
  {
   "cell_type": "code",
   "execution_count": 160,
   "metadata": {},
   "outputs": [
    {
     "data": {
      "text/plain": [
       "      fun: array([[0.93198243]])\n",
       " hess_inv: <4x4 LbfgsInvHessProduct with dtype=float64>\n",
       "      jac: array([1.98044013e+23, 1.01083534e+23, 2.70343074e+22, 2.75978016e+22])\n",
       "  message: b'ABNORMAL_TERMINATION_IN_LNSRCH'\n",
       "     nfev: 105\n",
       "      nit: 0\n",
       "   status: 2\n",
       "  success: False\n",
       "        x: array([0.45160303, 9.84266392, 0.07778609, 0.69317435])"
      ]
     },
     "execution_count": 160,
     "metadata": {},
     "output_type": "execute_result"
    }
   ],
   "source": [
    "#Check convergence\n",
    "results_2s"
   ]
  },
  {
   "cell_type": "code",
   "execution_count": 161,
   "metadata": {},
   "outputs": [
    {
     "name": "stdout",
     "output_type": "stream",
     "text": [
      "d_err_2s [[ 5.70333772e+01  3.45841056e+00  6.66222564e-01  9.28494884e-02]\n",
      " [ 7.30638528e+01  3.90674354e+00  7.52588699e-01  1.04886084e-01]\n",
      " [-1.67767888e+00  0.00000000e+00  0.00000000e+00  0.00000000e+00]\n",
      " [ 6.95731440e+01  3.81090210e+00  2.57049977e+01  3.38353850e+00]\n",
      " [ 0.00000000e+00  0.00000000e+00  0.00000000e+00  1.60165048e-12]\n",
      " [ 1.20264024e+01  6.00522545e-01  3.40280702e-01  9.39001450e-02]]\n",
      "Weight matrix 2 Step [[ 5.49464406e+00 -2.22041109e+00 -1.97733215e+08 -7.64143784e+00\n",
      "   6.47855635e+23  2.34043420e+06]\n",
      " [-2.18400221e+00  1.36010109e+00  4.03518335e+08  3.20474968e+00\n",
      "  -3.40744796e+23 -2.51580681e+07]\n",
      " [-1.26458629e+08  3.76026175e+08  2.88516230e+17  3.14286829e+06\n",
      "   8.76111840e+31  1.59205631e+15]\n",
      " [-7.20491015e+00  3.07898088e+00  8.65557855e+07  5.08067995e+00\n",
      "  -2.17107612e+23  1.09500597e+07]\n",
      " [ 6.08528747e+23 -3.29145470e+23  8.06226677e+31 -2.13885011e+23\n",
      "   1.82825472e+46 -2.15233731e+30]\n",
      " [ 1.37932191e+06 -2.47851864e+07  1.59628413e+15  1.21007467e+07\n",
      "  -2.24890772e+30 -5.10835968e+14]]\n",
      "SigHat_2s [[-2.01066418e-21  2.37797040e-14 -4.19658046e-14 -1.24735219e-23]\n",
      " [ 2.43044210e-14 -8.87408318e-08  1.56605652e-07  9.76499470e-17]\n",
      " [-4.28918235e-14  1.56605777e-07 -2.76370519e-07 -1.72329955e-16]\n",
      " [-1.20589217e-23  8.98685431e-17 -1.58597456e-16 -4.66625962e-26]]\n",
      "Std. err. alpha_hat_2s= nan\n",
      "Std. err. mu_hat_2s= nan\n",
      "Std. err. sigma_hat_2s= nan\n",
      "Std. err. rho_hat_2s= nan\n"
     ]
    },
    {
     "name": "stderr",
     "output_type": "stream",
     "text": [
      "C:\\Users\\joset\\Anaconda3\\lib\\site-packages\\ipykernel_launcher.py:8: RuntimeWarning: invalid value encountered in sqrt\n",
      "  \n",
      "C:\\Users\\joset\\Anaconda3\\lib\\site-packages\\ipykernel_launcher.py:9: RuntimeWarning: invalid value encountered in sqrt\n",
      "  if __name__ == '__main__':\n",
      "C:\\Users\\joset\\Anaconda3\\lib\\site-packages\\ipykernel_launcher.py:10: RuntimeWarning: invalid value encountered in sqrt\n",
      "  # Remove the CWD from sys.path while we load stuff.\n",
      "C:\\Users\\joset\\Anaconda3\\lib\\site-packages\\ipykernel_launcher.py:11: RuntimeWarning: invalid value encountered in sqrt\n",
      "  # This is added back by InteractiveShellApp.init_path()\n"
     ]
    }
   ],
   "source": [
    "#Std error calculation\n",
    "S = 1000\n",
    "d_err_2s = jac_err(alpha_smm_2s, mu_smm_2s, sigma_smm_2s, rho_smm_2s, False)\n",
    "print(\"d_err_2s\", d_err_2s)\n",
    "print(\"Weight matrix 2 Step\", W_hat_2s)\n",
    "SigHat_2s = (1 / S) * lin.inv(d_err_2s.T @ W_hat_2s @ d_err_2s)\n",
    "print(\"SigHat_2s\", SigHat_2s)\n",
    "print('Std. err. alpha_hat_2s=', np.sqrt(SigHat_2s[0, 0]))\n",
    "print('Std. err. mu_hat_2s=', np.sqrt(SigHat_2s[1, 1]))\n",
    "print('Std. err. sigma_hat_2s=', np.sqrt(SigHat_2s[2, 2]))\n",
    "print('Std. err. rho_hat_2s=', np.sqrt(SigHat_2s[3, 3]))"
   ]
  }
 ],
 "metadata": {
  "kernelspec": {
   "display_name": "Python 3",
   "language": "python",
   "name": "python3"
  },
  "language_info": {
   "codemirror_mode": {
    "name": "ipython",
    "version": 3
   },
   "file_extension": ".py",
   "mimetype": "text/x-python",
   "name": "python",
   "nbconvert_exporter": "python",
   "pygments_lexer": "ipython3",
   "version": "3.7.4"
  }
 },
 "nbformat": 4,
 "nbformat_minor": 2
}
